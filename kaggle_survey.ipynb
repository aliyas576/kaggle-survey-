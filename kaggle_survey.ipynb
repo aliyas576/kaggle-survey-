{
 "cells": [
  {
   "cell_type": "code",
   "execution_count": 37,
   "id": "8b12946f",
   "metadata": {},
   "outputs": [],
   "source": [
    "import pandas as pd \n",
    "import numpy as np \n",
    "import matplotlib.pyplot as plt\n",
    "from sklearn.preprocessing import LabelEncoder\n",
    "import seaborn as sns"
   ]
  },
  {
   "cell_type": "code",
   "execution_count": 38,
   "id": "02497154",
   "metadata": {},
   "outputs": [
    {
     "name": "stderr",
     "output_type": "stream",
     "text": [
      "C:\\Users\\Latitude\\AppData\\Local\\Temp\\ipykernel_2284\\1220648725.py:1: DtypeWarning: Columns (0,1,8,9,10,11,12,13,14,15,16,17,18,19,20,22,23,24,25,26,27,28,29,30,31,32,33,34,35,36,37,38,39,40,41,42,43,44,45,46,47,48,49,50,51,52,53,54,55,56,57,58,59,60,61,62,63,64,65,66,67,68,69,70,71,72,73,74,75,76,77,78,79,80,81,82,83,84,85,86,87,88,89,90,91,92,93,94,95,96,97,98,99,100,101,102,103,104,105,106,107,108,109,110,111,112,113,114,115,116,117,118,119,120,121,122,123,124,125,126,127,128,129,130,131,132,133,134,135,136,137,138,139,140,141,142,143,144,145,146,147,148,149,150,151,152,153,154,155,156,157,158,159,160,161,162,163,164,165,166,167,168,169,170,171,172,173,174,175,176,177,178,179,180,181,182,183,184,185,186,187,188,189,190,191,192,193,194,195,196,197,198,199,200,201,202,203,204,205,206,207,208,209,210,211,212,213,214,215,216,217,218,219,220,221,222,223,224,225,226,227,228,229,230,231,232,233,234,235,236,237,238,239,240,241,242,243,244,245,246,247,248,249,250,251,252,253,254,255,256,257,258,259,260,261,262,263,264,265,266,267,268,269,270,271,272,273,274,275,276,277,278,279,280,281,282,283,284,285,286,287,288,289,290,291,292) have mixed types. Specify dtype option on import or set low_memory=False.\n",
      "  df = pd.read_csv(\"C:\\\\Users\\\\Latitude\\\\Downloads\\\\kaggle_survey_2017_2021.csv\")\n"
     ]
    }
   ],
   "source": [
    "df = pd.read_csv(\"C:\\\\Users\\\\Latitude\\\\Downloads\\\\kaggle_survey_2017_2021.csv\")"
   ]
  },
  {
   "cell_type": "code",
   "execution_count": 40,
   "id": "ab9ef837",
   "metadata": {},
   "outputs": [
    {
     "data": {
      "application/vnd.microsoft.datawrangler.viewer.v0+json": {
       "columns": [
        {
         "name": "index",
         "rawType": "int64",
         "type": "integer"
        },
        {
         "name": "-",
         "rawType": "object",
         "type": "string"
        },
        {
         "name": "Time from Start to Finish (seconds)",
         "rawType": "object",
         "type": "string"
        },
        {
         "name": "Q1",
         "rawType": "object",
         "type": "string"
        },
        {
         "name": "Q2",
         "rawType": "object",
         "type": "string"
        },
        {
         "name": "Q3",
         "rawType": "object",
         "type": "string"
        },
        {
         "name": "Q4",
         "rawType": "object",
         "type": "string"
        },
        {
         "name": "Q5",
         "rawType": "object",
         "type": "string"
        },
        {
         "name": "Q6",
         "rawType": "object",
         "type": "string"
        },
        {
         "name": "Q7_Part_1",
         "rawType": "object",
         "type": "unknown"
        },
        {
         "name": "Q7_Part_2",
         "rawType": "object",
         "type": "unknown"
        },
        {
         "name": "Q7_Part_3",
         "rawType": "object",
         "type": "unknown"
        },
        {
         "name": "Q7_Part_4",
         "rawType": "object",
         "type": "unknown"
        },
        {
         "name": "Q7_Part_5",
         "rawType": "object",
         "type": "unknown"
        },
        {
         "name": "Q7_Part_6",
         "rawType": "object",
         "type": "unknown"
        },
        {
         "name": "Q7_Part_7",
         "rawType": "object",
         "type": "unknown"
        },
        {
         "name": "Q7_Part_8",
         "rawType": "object",
         "type": "unknown"
        },
        {
         "name": "Q7_Part_9",
         "rawType": "object",
         "type": "unknown"
        },
        {
         "name": "Q7_Part_10",
         "rawType": "object",
         "type": "unknown"
        },
        {
         "name": "Q7_Part_11",
         "rawType": "object",
         "type": "unknown"
        },
        {
         "name": "Q7_Part_12",
         "rawType": "object",
         "type": "unknown"
        },
        {
         "name": "Q7_OTHER",
         "rawType": "object",
         "type": "unknown"
        },
        {
         "name": "Q8",
         "rawType": "object",
         "type": "string"
        },
        {
         "name": "Q9_Part_1",
         "rawType": "object",
         "type": "unknown"
        },
        {
         "name": "Q9_Part_2",
         "rawType": "object",
         "type": "unknown"
        },
        {
         "name": "Q9_Part_3",
         "rawType": "object",
         "type": "unknown"
        },
        {
         "name": "Q9_Part_5",
         "rawType": "object",
         "type": "unknown"
        },
        {
         "name": "Q9_Part_6",
         "rawType": "object",
         "type": "unknown"
        },
        {
         "name": "Q9_Part_7",
         "rawType": "object",
         "type": "unknown"
        },
        {
         "name": "Q9_Part_8",
         "rawType": "object",
         "type": "unknown"
        },
        {
         "name": "Q9_Part_9",
         "rawType": "object",
         "type": "unknown"
        },
        {
         "name": "Q9_Part_10",
         "rawType": "object",
         "type": "unknown"
        },
        {
         "name": "Q9_Part_12",
         "rawType": "object",
         "type": "unknown"
        },
        {
         "name": "Q9_OTHER",
         "rawType": "object",
         "type": "unknown"
        },
        {
         "name": "Q10_Part_1",
         "rawType": "object",
         "type": "unknown"
        },
        {
         "name": "Q10_Part_2",
         "rawType": "object",
         "type": "unknown"
        },
        {
         "name": "Q10_Part_3",
         "rawType": "object",
         "type": "unknown"
        },
        {
         "name": "Q10_Part_4",
         "rawType": "object",
         "type": "unknown"
        },
        {
         "name": "Q10_Part_5",
         "rawType": "object",
         "type": "unknown"
        },
        {
         "name": "Q10_Part_6",
         "rawType": "object",
         "type": "unknown"
        },
        {
         "name": "Q10_Part_7",
         "rawType": "object",
         "type": "unknown"
        },
        {
         "name": "Q10_Part_8",
         "rawType": "object",
         "type": "unknown"
        },
        {
         "name": "Q10_Part_9",
         "rawType": "object",
         "type": "unknown"
        },
        {
         "name": "Q10_Part_10",
         "rawType": "object",
         "type": "unknown"
        },
        {
         "name": "Q10_Part_11",
         "rawType": "object",
         "type": "unknown"
        },
        {
         "name": "Q10_Part_12",
         "rawType": "object",
         "type": "unknown"
        },
        {
         "name": "Q10_Part_16",
         "rawType": "object",
         "type": "unknown"
        },
        {
         "name": "Q10_OTHER",
         "rawType": "object",
         "type": "unknown"
        },
        {
         "name": "Q11",
         "rawType": "object",
         "type": "string"
        },
        {
         "name": "Q12new",
         "rawType": "object",
         "type": "unknown"
        },
        {
         "name": "Q12_Part_1",
         "rawType": "object",
         "type": "unknown"
        },
        {
         "name": "Q12_Part_2",
         "rawType": "object",
         "type": "unknown"
        },
        {
         "name": "Q12_Part_5",
         "rawType": "object",
         "type": "unknown"
        },
        {
         "name": "Q12_OTHER",
         "rawType": "object",
         "type": "unknown"
        },
        {
         "name": "Q13",
         "rawType": "object",
         "type": "string"
        },
        {
         "name": "Q14_Part_1",
         "rawType": "object",
         "type": "string"
        },
        {
         "name": "Q14_Part_2",
         "rawType": "object",
         "type": "unknown"
        },
        {
         "name": "Q14_Part_3",
         "rawType": "object",
         "type": "unknown"
        },
        {
         "name": "Q14_Part_4",
         "rawType": "object",
         "type": "unknown"
        },
        {
         "name": "Q14_Part_5",
         "rawType": "object",
         "type": "unknown"
        },
        {
         "name": "Q14_Part_6",
         "rawType": "object",
         "type": "unknown"
        },
        {
         "name": "Q14_Part_7",
         "rawType": "object",
         "type": "unknown"
        },
        {
         "name": "Q14_Part_8",
         "rawType": "object",
         "type": "unknown"
        },
        {
         "name": "Q14_Part_9",
         "rawType": "object",
         "type": "unknown"
        },
        {
         "name": "Q14_Part_10",
         "rawType": "object",
         "type": "unknown"
        },
        {
         "name": "Q14_Part_11",
         "rawType": "object",
         "type": "unknown"
        },
        {
         "name": "Q14_OTHER",
         "rawType": "object",
         "type": "unknown"
        },
        {
         "name": "Q15",
         "rawType": "object",
         "type": "string"
        },
        {
         "name": "Q16_Part_1",
         "rawType": "object",
         "type": "unknown"
        },
        {
         "name": "Q16_Part_2",
         "rawType": "object",
         "type": "unknown"
        },
        {
         "name": "Q16_Part_3",
         "rawType": "object",
         "type": "unknown"
        },
        {
         "name": "Q16_Part_4",
         "rawType": "object",
         "type": "unknown"
        },
        {
         "name": "Q16_Part_5",
         "rawType": "object",
         "type": "unknown"
        },
        {
         "name": "Q16_Part_6",
         "rawType": "object",
         "type": "unknown"
        },
        {
         "name": "Q16_Part_7",
         "rawType": "object",
         "type": "unknown"
        },
        {
         "name": "Q16_Part_8",
         "rawType": "object",
         "type": "unknown"
        },
        {
         "name": "Q16_Part_9",
         "rawType": "object",
         "type": "unknown"
        },
        {
         "name": "Q16_Part_10",
         "rawType": "object",
         "type": "unknown"
        },
        {
         "name": "Q16_Part_11",
         "rawType": "object",
         "type": "unknown"
        },
        {
         "name": "Q16_Part_12",
         "rawType": "object",
         "type": "unknown"
        },
        {
         "name": "Q16_Part_13",
         "rawType": "object",
         "type": "unknown"
        },
        {
         "name": "Q16_Part_14",
         "rawType": "object",
         "type": "unknown"
        },
        {
         "name": "Q16_Part_17",
         "rawType": "object",
         "type": "unknown"
        },
        {
         "name": "Q16_OTHER",
         "rawType": "object",
         "type": "unknown"
        },
        {
         "name": "Q17_Part_1",
         "rawType": "object",
         "type": "unknown"
        },
        {
         "name": "Q17_Part_2",
         "rawType": "object",
         "type": "unknown"
        },
        {
         "name": "Q17_Part_3",
         "rawType": "object",
         "type": "unknown"
        },
        {
         "name": "Q17_Part_4",
         "rawType": "object",
         "type": "unknown"
        },
        {
         "name": "Q17_Part_5",
         "rawType": "object",
         "type": "unknown"
        },
        {
         "name": "Q17_Part_6",
         "rawType": "object",
         "type": "unknown"
        },
        {
         "name": "Q17_Part_7",
         "rawType": "object",
         "type": "unknown"
        },
        {
         "name": "Q17_Part_8",
         "rawType": "object",
         "type": "unknown"
        },
        {
         "name": "Q17_Part_9",
         "rawType": "object",
         "type": "unknown"
        },
        {
         "name": "Q17_Part_10",
         "rawType": "object",
         "type": "unknown"
        },
        {
         "name": "Q17_Part_11",
         "rawType": "object",
         "type": "unknown"
        },
        {
         "name": "Q17_OTHER",
         "rawType": "object",
         "type": "unknown"
        },
        {
         "name": "Q18_Part_1",
         "rawType": "object",
         "type": "unknown"
        },
        {
         "name": "Q18_Part_2",
         "rawType": "object",
         "type": "unknown"
        },
        {
         "name": "Q18_Part_3",
         "rawType": "object",
         "type": "unknown"
        },
        {
         "name": "Q18_Part_4",
         "rawType": "object",
         "type": "unknown"
        },
        {
         "name": "Q18_Part_5",
         "rawType": "object",
         "type": "unknown"
        },
        {
         "name": "Q18_Part_6",
         "rawType": "object",
         "type": "unknown"
        },
        {
         "name": "Q18_OTHER",
         "rawType": "object",
         "type": "unknown"
        },
        {
         "name": "Q19_Part_1",
         "rawType": "object",
         "type": "unknown"
        },
        {
         "name": "Q19_Part_2",
         "rawType": "object",
         "type": "unknown"
        },
        {
         "name": "Q19_Part_3",
         "rawType": "object",
         "type": "unknown"
        },
        {
         "name": "Q19_Part_4",
         "rawType": "object",
         "type": "unknown"
        },
        {
         "name": "Q19_Part_5",
         "rawType": "object",
         "type": "unknown"
        },
        {
         "name": "Q19_OTHER",
         "rawType": "object",
         "type": "unknown"
        },
        {
         "name": "Q20",
         "rawType": "object",
         "type": "string"
        },
        {
         "name": "Q21",
         "rawType": "object",
         "type": "string"
        },
        {
         "name": "Q22",
         "rawType": "object",
         "type": "string"
        },
        {
         "name": "Q23",
         "rawType": "object",
         "type": "string"
        },
        {
         "name": "Q24_Part_1",
         "rawType": "object",
         "type": "unknown"
        },
        {
         "name": "Q24_Part_2",
         "rawType": "object",
         "type": "unknown"
        },
        {
         "name": "Q24_Part_3",
         "rawType": "object",
         "type": "unknown"
        },
        {
         "name": "Q24_Part_4",
         "rawType": "object",
         "type": "unknown"
        },
        {
         "name": "Q24_Part_5",
         "rawType": "object",
         "type": "unknown"
        },
        {
         "name": "Q24_Part_6",
         "rawType": "object",
         "type": "unknown"
        },
        {
         "name": "Q24_Part_7",
         "rawType": "object",
         "type": "unknown"
        },
        {
         "name": "Q24_OTHER",
         "rawType": "object",
         "type": "unknown"
        },
        {
         "name": "Q25",
         "rawType": "object",
         "type": "string"
        },
        {
         "name": "Q26",
         "rawType": "object",
         "type": "string"
        },
        {
         "name": "Q27_A_Part_1",
         "rawType": "object",
         "type": "unknown"
        },
        {
         "name": "Q27_A_Part_2",
         "rawType": "object",
         "type": "unknown"
        },
        {
         "name": "Q27_A_Part_3",
         "rawType": "object",
         "type": "unknown"
        },
        {
         "name": "Q27_A_Part_4",
         "rawType": "object",
         "type": "unknown"
        },
        {
         "name": "Q27_A_Part_5",
         "rawType": "object",
         "type": "unknown"
        },
        {
         "name": "Q27_A_Part_6",
         "rawType": "object",
         "type": "unknown"
        },
        {
         "name": "Q27_A_Part_7",
         "rawType": "object",
         "type": "unknown"
        },
        {
         "name": "Q27_A_Part_8",
         "rawType": "object",
         "type": "unknown"
        },
        {
         "name": "Q27_A_Part_9",
         "rawType": "object",
         "type": "unknown"
        },
        {
         "name": "Q27_A_Part_10",
         "rawType": "object",
         "type": "unknown"
        },
        {
         "name": "Q27_A_Part_11",
         "rawType": "object",
         "type": "unknown"
        },
        {
         "name": "Q27_A_OTHER",
         "rawType": "object",
         "type": "unknown"
        },
        {
         "name": "Q31_A_Part_1",
         "rawType": "object",
         "type": "unknown"
        },
        {
         "name": "Q31_A_Part_2",
         "rawType": "object",
         "type": "unknown"
        },
        {
         "name": "Q31_A_Part_9",
         "rawType": "object",
         "type": "unknown"
        },
        {
         "name": "Q31_A_OTHER",
         "rawType": "object",
         "type": "unknown"
        },
        {
         "name": "Q32_A_Part_1",
         "rawType": "object",
         "type": "unknown"
        },
        {
         "name": "Q32_A_Part_2",
         "rawType": "object",
         "type": "unknown"
        },
        {
         "name": "Q32_A_Part_3",
         "rawType": "object",
         "type": "unknown"
        },
        {
         "name": "Q32_A_Part_4",
         "rawType": "object",
         "type": "unknown"
        },
        {
         "name": "Q32_A_Part_5",
         "rawType": "object",
         "type": "unknown"
        },
        {
         "name": "Q32_A_Part_6",
         "rawType": "object",
         "type": "unknown"
        },
        {
         "name": "Q32_A_Part_7",
         "rawType": "object",
         "type": "unknown"
        },
        {
         "name": "Q32_A_Part_8",
         "rawType": "object",
         "type": "unknown"
        },
        {
         "name": "Q32_A_Part_11",
         "rawType": "object",
         "type": "unknown"
        },
        {
         "name": "Q32_A_Part_14",
         "rawType": "object",
         "type": "unknown"
        },
        {
         "name": "Q32_A_Part_15",
         "rawType": "object",
         "type": "unknown"
        },
        {
         "name": "Q32_A_Part_16",
         "rawType": "object",
         "type": "unknown"
        },
        {
         "name": "Q32_A_Part_17",
         "rawType": "object",
         "type": "unknown"
        },
        {
         "name": "Q32_A_Part_20",
         "rawType": "object",
         "type": "unknown"
        },
        {
         "name": "Q32_A_OTHER",
         "rawType": "object",
         "type": "unknown"
        },
        {
         "name": "Q33",
         "rawType": "object",
         "type": "unknown"
        },
        {
         "name": "Q34_A_Part_1",
         "rawType": "object",
         "type": "unknown"
        },
        {
         "name": "Q34_A_Part_2",
         "rawType": "object",
         "type": "unknown"
        },
        {
         "name": "Q34_A_Part_3",
         "rawType": "object",
         "type": "unknown"
        },
        {
         "name": "Q34_A_Part_4",
         "rawType": "object",
         "type": "unknown"
        },
        {
         "name": "Q34_A_Part_5",
         "rawType": "object",
         "type": "unknown"
        },
        {
         "name": "Q34_A_Part_6",
         "rawType": "object",
         "type": "unknown"
        },
        {
         "name": "Q34_A_Part_8",
         "rawType": "object",
         "type": "unknown"
        },
        {
         "name": "Q34_A_Part_9",
         "rawType": "object",
         "type": "unknown"
        },
        {
         "name": "Q34_A_Part_10",
         "rawType": "object",
         "type": "unknown"
        },
        {
         "name": "Q34_A_Part_11",
         "rawType": "object",
         "type": "unknown"
        },
        {
         "name": "Q34_A_Part_12",
         "rawType": "object",
         "type": "unknown"
        },
        {
         "name": "Q34_A_Part_13",
         "rawType": "object",
         "type": "unknown"
        },
        {
         "name": "Q34_A_Part_16",
         "rawType": "object",
         "type": "unknown"
        },
        {
         "name": "Q34_A_OTHER",
         "rawType": "object",
         "type": "unknown"
        },
        {
         "name": "Q35",
         "rawType": "object",
         "type": "unknown"
        },
        {
         "name": "Q36_A_Part_1",
         "rawType": "object",
         "type": "unknown"
        },
        {
         "name": "Q36_A_Part_2",
         "rawType": "object",
         "type": "unknown"
        },
        {
         "name": "Q36_A_Part_3",
         "rawType": "object",
         "type": "unknown"
        },
        {
         "name": "Q36_A_Part_4",
         "rawType": "object",
         "type": "unknown"
        },
        {
         "name": "Q36_A_Part_5",
         "rawType": "object",
         "type": "unknown"
        },
        {
         "name": "Q36_A_Part_6",
         "rawType": "object",
         "type": "unknown"
        },
        {
         "name": "Q36_A_Part_7",
         "rawType": "object",
         "type": "unknown"
        },
        {
         "name": "Q36_A_OTHER",
         "rawType": "object",
         "type": "unknown"
        },
        {
         "name": "Q37_A_Part_1",
         "rawType": "object",
         "type": "unknown"
        },
        {
         "name": "Q37_A_Part_2",
         "rawType": "object",
         "type": "unknown"
        },
        {
         "name": "Q37_A_Part_3",
         "rawType": "object",
         "type": "unknown"
        },
        {
         "name": "Q37_A_Part_4",
         "rawType": "object",
         "type": "unknown"
        },
        {
         "name": "Q37_A_Part_7",
         "rawType": "object",
         "type": "unknown"
        },
        {
         "name": "Q37_A_OTHER",
         "rawType": "object",
         "type": "unknown"
        },
        {
         "name": "Q38_A_Part_1",
         "rawType": "object",
         "type": "unknown"
        },
        {
         "name": "Q38_A_Part_2",
         "rawType": "object",
         "type": "unknown"
        },
        {
         "name": "Q38_A_Part_3",
         "rawType": "object",
         "type": "unknown"
        },
        {
         "name": "Q38_A_Part_4",
         "rawType": "object",
         "type": "unknown"
        },
        {
         "name": "Q38_A_Part_5",
         "rawType": "object",
         "type": "unknown"
        },
        {
         "name": "Q38_A_Part_6",
         "rawType": "object",
         "type": "unknown"
        },
        {
         "name": "Q38_A_Part_7",
         "rawType": "object",
         "type": "unknown"
        },
        {
         "name": "Q38_A_Part_9",
         "rawType": "object",
         "type": "unknown"
        },
        {
         "name": "Q38_A_Part_11",
         "rawType": "object",
         "type": "unknown"
        },
        {
         "name": "Q38_A_OTHER",
         "rawType": "object",
         "type": "unknown"
        },
        {
         "name": "Q39_Part_1",
         "rawType": "object",
         "type": "unknown"
        },
        {
         "name": "Q39_Part_2",
         "rawType": "object",
         "type": "unknown"
        },
        {
         "name": "Q39_Part_3",
         "rawType": "object",
         "type": "unknown"
        },
        {
         "name": "Q39_Part_4",
         "rawType": "object",
         "type": "unknown"
        },
        {
         "name": "Q39_Part_5",
         "rawType": "object",
         "type": "unknown"
        },
        {
         "name": "Q39_Part_6",
         "rawType": "object",
         "type": "unknown"
        },
        {
         "name": "Q39_Part_7",
         "rawType": "object",
         "type": "unknown"
        },
        {
         "name": "Q39_Part_8",
         "rawType": "object",
         "type": "unknown"
        },
        {
         "name": "Q39_Part_9",
         "rawType": "object",
         "type": "unknown"
        },
        {
         "name": "Q39_OTHER",
         "rawType": "object",
         "type": "unknown"
        },
        {
         "name": "Q40_Part_1",
         "rawType": "object",
         "type": "unknown"
        },
        {
         "name": "Q40_Part_2",
         "rawType": "object",
         "type": "unknown"
        },
        {
         "name": "Q40_Part_3",
         "rawType": "object",
         "type": "unknown"
        },
        {
         "name": "Q40_Part_4",
         "rawType": "object",
         "type": "unknown"
        },
        {
         "name": "Q40_Part_5",
         "rawType": "object",
         "type": "unknown"
        },
        {
         "name": "Q40_Part_6",
         "rawType": "object",
         "type": "unknown"
        },
        {
         "name": "Q40_Part_7",
         "rawType": "object",
         "type": "unknown"
        },
        {
         "name": "Q40_Part_8",
         "rawType": "object",
         "type": "unknown"
        },
        {
         "name": "Q40_Part_9",
         "rawType": "object",
         "type": "unknown"
        },
        {
         "name": "Q40_Part_10",
         "rawType": "object",
         "type": "unknown"
        },
        {
         "name": "Q40_Part_11",
         "rawType": "object",
         "type": "unknown"
        },
        {
         "name": "Q40_OTHER",
         "rawType": "object",
         "type": "unknown"
        },
        {
         "name": "Q41",
         "rawType": "object",
         "type": "string"
        },
        {
         "name": "Q42_Part_1",
         "rawType": "object",
         "type": "unknown"
        },
        {
         "name": "Q42_Part_2",
         "rawType": "object",
         "type": "unknown"
        },
        {
         "name": "Q42_Part_3",
         "rawType": "object",
         "type": "unknown"
        },
        {
         "name": "Q42_Part_4",
         "rawType": "object",
         "type": "unknown"
        },
        {
         "name": "Q42_Part_5",
         "rawType": "object",
         "type": "unknown"
        },
        {
         "name": "Q42_Part_6",
         "rawType": "object",
         "type": "unknown"
        },
        {
         "name": "Q42_Part_7",
         "rawType": "object",
         "type": "unknown"
        },
        {
         "name": "Q42_Part_8",
         "rawType": "object",
         "type": "unknown"
        },
        {
         "name": "Q42_Part_9",
         "rawType": "object",
         "type": "unknown"
        },
        {
         "name": "Q42_Part_10",
         "rawType": "object",
         "type": "unknown"
        },
        {
         "name": "Q42_Part_11",
         "rawType": "object",
         "type": "unknown"
        },
        {
         "name": "Q42_OTHER",
         "rawType": "object",
         "type": "unknown"
        },
        {
         "name": "Q27_B_Part_1",
         "rawType": "object",
         "type": "unknown"
        },
        {
         "name": "Q27_B_Part_2",
         "rawType": "object",
         "type": "unknown"
        },
        {
         "name": "Q27_B_Part_3",
         "rawType": "object",
         "type": "unknown"
        },
        {
         "name": "Q27_B_Part_4",
         "rawType": "object",
         "type": "unknown"
        },
        {
         "name": "Q27_B_Part_5",
         "rawType": "object",
         "type": "unknown"
        },
        {
         "name": "Q27_B_Part_6",
         "rawType": "object",
         "type": "unknown"
        },
        {
         "name": "Q27_B_Part_7",
         "rawType": "object",
         "type": "unknown"
        },
        {
         "name": "Q27_B_Part_8",
         "rawType": "object",
         "type": "unknown"
        },
        {
         "name": "Q27_B_Part_9",
         "rawType": "object",
         "type": "unknown"
        },
        {
         "name": "Q27_B_Part_10",
         "rawType": "object",
         "type": "unknown"
        },
        {
         "name": "Q27_B_Part_11",
         "rawType": "object",
         "type": "unknown"
        },
        {
         "name": "Q27_B_OTHER",
         "rawType": "object",
         "type": "unknown"
        },
        {
         "name": "Q32_B_Part_1",
         "rawType": "object",
         "type": "unknown"
        },
        {
         "name": "Q32_B_Part_2",
         "rawType": "object",
         "type": "unknown"
        },
        {
         "name": "Q32_B_Part_3",
         "rawType": "object",
         "type": "unknown"
        },
        {
         "name": "Q32_B_Part_4",
         "rawType": "object",
         "type": "unknown"
        },
        {
         "name": "Q32_B_Part_5",
         "rawType": "object",
         "type": "unknown"
        },
        {
         "name": "Q32_B_Part_6",
         "rawType": "object",
         "type": "unknown"
        },
        {
         "name": "Q32_B_Part_7",
         "rawType": "object",
         "type": "unknown"
        },
        {
         "name": "Q32_B_Part_8",
         "rawType": "object",
         "type": "unknown"
        },
        {
         "name": "Q32_B_Part_11",
         "rawType": "object",
         "type": "unknown"
        },
        {
         "name": "Q32_B_Part_13",
         "rawType": "object",
         "type": "unknown"
        },
        {
         "name": "Q32_B_Part_15",
         "rawType": "object",
         "type": "unknown"
        },
        {
         "name": "Q32_B_Part_16",
         "rawType": "object",
         "type": "unknown"
        },
        {
         "name": "Q32_B_Part_17",
         "rawType": "object",
         "type": "unknown"
        },
        {
         "name": "Q32_B_Part_20",
         "rawType": "object",
         "type": "unknown"
        },
        {
         "name": "Q32_B_OTHER",
         "rawType": "object",
         "type": "unknown"
        },
        {
         "name": "Q34_B_Part_1",
         "rawType": "object",
         "type": "unknown"
        },
        {
         "name": "Q34_B_Part_2",
         "rawType": "object",
         "type": "unknown"
        },
        {
         "name": "Q34_B_Part_3",
         "rawType": "object",
         "type": "unknown"
        },
        {
         "name": "Q34_B_Part_4",
         "rawType": "object",
         "type": "unknown"
        },
        {
         "name": "Q34_B_Part_5",
         "rawType": "object",
         "type": "unknown"
        },
        {
         "name": "Q34_B_Part_6",
         "rawType": "object",
         "type": "unknown"
        },
        {
         "name": "Q34_B_Part_8",
         "rawType": "object",
         "type": "unknown"
        },
        {
         "name": "Q34_B_Part_9",
         "rawType": "object",
         "type": "unknown"
        },
        {
         "name": "Q34_B_Part_10",
         "rawType": "object",
         "type": "unknown"
        },
        {
         "name": "Q34_B_Part_11",
         "rawType": "object",
         "type": "unknown"
        },
        {
         "name": "Q34_B_Part_12",
         "rawType": "object",
         "type": "unknown"
        },
        {
         "name": "Q34_B_Part_13",
         "rawType": "object",
         "type": "unknown"
        },
        {
         "name": "Q34_B_Part_16",
         "rawType": "object",
         "type": "unknown"
        },
        {
         "name": "Q34_B_OTHER",
         "rawType": "object",
         "type": "unknown"
        },
        {
         "name": "Q36_B_Part_1",
         "rawType": "object",
         "type": "unknown"
        },
        {
         "name": "Q36_B_Part_2",
         "rawType": "object",
         "type": "unknown"
        },
        {
         "name": "Q36_B_Part_3",
         "rawType": "object",
         "type": "unknown"
        },
        {
         "name": "Q36_B_Part_4",
         "rawType": "object",
         "type": "unknown"
        },
        {
         "name": "Q36_B_Part_5",
         "rawType": "object",
         "type": "unknown"
        },
        {
         "name": "Q36_B_Part_6",
         "rawType": "object",
         "type": "unknown"
        },
        {
         "name": "Q36_B_Part_7",
         "rawType": "object",
         "type": "unknown"
        },
        {
         "name": "Q36_B_OTHER",
         "rawType": "object",
         "type": "unknown"
        },
        {
         "name": "Q37_B_Part_1",
         "rawType": "object",
         "type": "unknown"
        },
        {
         "name": "Q37_B_Part_2",
         "rawType": "object",
         "type": "unknown"
        },
        {
         "name": "Q37_B_Part_3",
         "rawType": "object",
         "type": "unknown"
        },
        {
         "name": "Q37_B_Part_4",
         "rawType": "object",
         "type": "unknown"
        },
        {
         "name": "Q37_B_Part_7",
         "rawType": "object",
         "type": "unknown"
        },
        {
         "name": "Q37_B_OTHER",
         "rawType": "object",
         "type": "unknown"
        },
        {
         "name": "Q38_B_Part_1",
         "rawType": "object",
         "type": "unknown"
        },
        {
         "name": "Q38_B_Part_2",
         "rawType": "object",
         "type": "unknown"
        },
        {
         "name": "Q38_B_Part_3",
         "rawType": "object",
         "type": "unknown"
        },
        {
         "name": "Q38_B_Part_4",
         "rawType": "object",
         "type": "unknown"
        },
        {
         "name": "Q38_B_Part_5",
         "rawType": "object",
         "type": "unknown"
        },
        {
         "name": "Q38_B_Part_6",
         "rawType": "object",
         "type": "unknown"
        },
        {
         "name": "Q38_B_Part_7",
         "rawType": "object",
         "type": "unknown"
        },
        {
         "name": "Q38_B_Part_9",
         "rawType": "object",
         "type": "unknown"
        },
        {
         "name": "Q38_B_Part_11",
         "rawType": "object",
         "type": "unknown"
        },
        {
         "name": "Q38_B_OTHER",
         "rawType": "object",
         "type": "unknown"
        }
       ],
       "ref": "fd73ddea-297c-4b11-9332-964433304c50",
       "rows": [
        [
         "0",
         "Year",
         "Duration (in seconds)",
         "What is your age (# years)?",
         "What is your gender? - Selected Choice",
         "In which country do you currently reside?",
         "What is the highest level of formal education that you have attained or plan to attain within the next 2 years?",
         "Select the title most similar to your current role (or most recent title if retired): - Selected Choice",
         "For how many years have you been writing code and/or programming?",
         "What programming languages do you use on a regular basis? (Select all that apply) - Selected Choice - Python",
         "What programming languages do you use on a regular basis? (Select all that apply) - Selected Choice - R",
         "What programming languages do you use on a regular basis? (Select all that apply) - Selected Choice - SQL",
         "What programming languages do you use on a regular basis? (Select all that apply) - Selected Choice - C",
         "What programming languages do you use on a regular basis? (Select all that apply) - Selected Choice - C++",
         "What programming languages do you use on a regular basis? (Select all that apply) - Selected Choice - Java",
         "What programming languages do you use on a regular basis? (Select all that apply) - Selected Choice - Javascript",
         "What programming languages do you use on a regular basis? (Select all that apply) - Selected Choice - Julia",
         "What programming languages do you use on a regular basis? (Select all that apply) - Selected Choice - Swift",
         "What programming languages do you use on a regular basis? (Select all that apply) - Selected Choice - Bash",
         "What programming languages do you use on a regular basis? (Select all that apply) - Selected Choice - MATLAB",
         "What programming languages do you use on a regular basis? (Select all that apply) - Selected Choice - None",
         "What programming languages do you use on a regular basis? (Select all that apply) - Selected Choice - Other",
         "What programming language would you recommend an aspiring data scientist to learn first? - Selected Choice",
         "Which of the following integrated development environments (IDE's) do you use on a regular basis?  (Select all that apply) - Selected Choice - Jupyter (JupyterLab, Jupyter Notebooks, etc) ",
         "Which of the following integrated development environments (IDE's) do you use on a regular basis?  (Select all that apply) - Selected Choice -  RStudio ",
         "Which of the following integrated development environments (IDE's) do you use on a regular basis?  (Select all that apply) - Selected Choice -  Visual Studio / Visual Studio Code ",
         "Which of the following integrated development environments (IDE's) do you use on a regular basis?  (Select all that apply) - Selected Choice -  PyCharm ",
         "Which of the following integrated development environments (IDE's) do you use on a regular basis?  (Select all that apply) - Selected Choice -   Spyder  ",
         "Which of the following integrated development environments (IDE's) do you use on a regular basis?  (Select all that apply) - Selected Choice -   Notepad++  ",
         "Which of the following integrated development environments (IDE's) do you use on a regular basis?  (Select all that apply) - Selected Choice -   Sublime Text  ",
         "Which of the following integrated development environments (IDE's) do you use on a regular basis?  (Select all that apply) - Selected Choice -   Vim / Emacs  ",
         "Which of the following integrated development environments (IDE's) do you use on a regular basis?  (Select all that apply) - Selected Choice -  MATLAB ",
         "Which of the following integrated development environments (IDE's) do you use on a regular basis?  (Select all that apply) - Selected Choice - None",
         "Which of the following integrated development environments (IDE's) do you use on a regular basis?  (Select all that apply) - Selected Choice - Other",
         "Which of the following hosted notebook products do you use on a regular basis?  (Select all that apply) - Selected Choice -  Kaggle Notebooks",
         "Which of the following hosted notebook products do you use on a regular basis?  (Select all that apply) - Selected Choice - Colab Notebooks",
         "Which of the following hosted notebook products do you use on a regular basis?  (Select all that apply) - Selected Choice - Azure Notebooks",
         "Which of the following hosted notebook products do you use on a regular basis?  (Select all that apply) - Selected Choice -  Paperspace / Gradient ",
         "Which of the following hosted notebook products do you use on a regular basis?  (Select all that apply) - Selected Choice -  Binder / JupyterHub ",
         "Which of the following hosted notebook products do you use on a regular basis?  (Select all that apply) - Selected Choice -  Code Ocean ",
         "Which of the following hosted notebook products do you use on a regular basis?  (Select all that apply) - Selected Choice -  IBM Watson Studio ",
         "Which of the following hosted notebook products do you use on a regular basis?  (Select all that apply) - Selected Choice -  Amazon Sagemaker Studio Notebooks ",
         "Which of the following hosted notebook products do you use on a regular basis?  (Select all that apply) - Selected Choice -  Amazon EMR Notebooks ",
         "Which of the following hosted notebook products do you use on a regular basis?  (Select all that apply) - Selected Choice - Google Cloud Notebooks (AI Platform / Vertex AI) ",
         "Which of the following hosted notebook products do you use on a regular basis?  (Select all that apply) - Selected Choice - Google Cloud Datalab",
         "Which of the following hosted notebook products do you use on a regular basis?  (Select all that apply) - Selected Choice -  Databricks Collaborative Notebooks ",
         "Which of the following hosted notebook products do you use on a regular basis?  (Select all that apply) - Selected Choice - None",
         "Which of the following hosted notebook products do you use on a regular basis?  (Select all that apply) - Selected Choice - Other",
         "What type of computing platform do you use most often for your data science projects? - Selected Choice",
         "Which types of specialized hardware do you use on a regular basis?  (Select all that apply) - Selected Choice - CPUs",
         "Which types of specialized hardware do you use on a regular basis?  (Select all that apply) - Selected Choice -  NVIDIA GPUs ",
         "Which types of specialized hardware do you use on a regular basis?  (Select all that apply) - Selected Choice -  Google Cloud TPUs ",
         "Which types of specialized hardware do you use on a regular basis?  (Select all that apply) - Selected Choice - None",
         "Which types of specialized hardware do you use on a regular basis?  (Select all that apply) - Selected Choice - Other",
         "Approximately how many times have you used a TPU (tensor processing unit)?",
         "What data visualization libraries or tools do you use on a regular basis?  (Select all that apply) - Selected Choice -  Matplotlib ",
         "What data visualization libraries or tools do you use on a regular basis?  (Select all that apply) - Selected Choice -  Seaborn ",
         "What data visualization libraries or tools do you use on a regular basis?  (Select all that apply) - Selected Choice -  Plotly / Plotly Express ",
         "What data visualization libraries or tools do you use on a regular basis?  (Select all that apply) - Selected Choice -  Ggplot / ggplot2 ",
         "What data visualization libraries or tools do you use on a regular basis?  (Select all that apply) - Selected Choice -  Shiny ",
         "What data visualization libraries or tools do you use on a regular basis?  (Select all that apply) - Selected Choice -  D3 js ",
         "What data visualization libraries or tools do you use on a regular basis?  (Select all that apply) - Selected Choice -  Altair ",
         "What data visualization libraries or tools do you use on a regular basis?  (Select all that apply) - Selected Choice -  Bokeh ",
         "What data visualization libraries or tools do you use on a regular basis?  (Select all that apply) - Selected Choice -  Geoplotlib ",
         "What data visualization libraries or tools do you use on a regular basis?  (Select all that apply) - Selected Choice -  Leaflet / Folium ",
         "What data visualization libraries or tools do you use on a regular basis?  (Select all that apply) - Selected Choice - None",
         "What data visualization libraries or tools do you use on a regular basis?  (Select all that apply) - Selected Choice - Other",
         "For how many years have you used machine learning methods?",
         "Which of the following machine learning frameworks do you use on a regular basis? (Select all that apply) - Selected Choice -   Scikit-learn ",
         "Which of the following machine learning frameworks do you use on a regular basis? (Select all that apply) - Selected Choice -   TensorFlow ",
         "Which of the following machine learning frameworks do you use on a regular basis? (Select all that apply) - Selected Choice -  Keras ",
         "Which of the following machine learning frameworks do you use on a regular basis? (Select all that apply) - Selected Choice -  PyTorch ",
         "Which of the following machine learning frameworks do you use on a regular basis? (Select all that apply) - Selected Choice -  Fast.ai ",
         "Which of the following machine learning frameworks do you use on a regular basis? (Select all that apply) - Selected Choice -  MXNet ",
         "Which of the following machine learning frameworks do you use on a regular basis? (Select all that apply) - Selected Choice -  Xgboost ",
         "Which of the following machine learning frameworks do you use on a regular basis? (Select all that apply) - Selected Choice -  LightGBM ",
         "Which of the following machine learning frameworks do you use on a regular basis? (Select all that apply) - Selected Choice -  CatBoost ",
         "Which of the following machine learning frameworks do you use on a regular basis? (Select all that apply) - Selected Choice -  Prophet ",
         "Which of the following machine learning frameworks do you use on a regular basis? (Select all that apply) - Selected Choice -  H2O 3 ",
         "Which of the following machine learning frameworks do you use on a regular basis? (Select all that apply) - Selected Choice -  Caret ",
         "Which of the following machine learning frameworks do you use on a regular basis? (Select all that apply) - Selected Choice -  Tidymodels ",
         "Which of the following machine learning frameworks do you use on a regular basis? (Select all that apply) - Selected Choice -  JAX ",
         "Which of the following machine learning frameworks do you use on a regular basis? (Select all that apply) - Selected Choice - None",
         "Which of the following machine learning frameworks do you use on a regular basis? (Select all that apply) - Selected Choice - Other",
         "Which of the following ML algorithms do you use on a regular basis? (Select all that apply): - Selected Choice - Linear or Logistic Regression",
         "Which of the following ML algorithms do you use on a regular basis? (Select all that apply): - Selected Choice - Decision Trees or Random Forests",
         "Which of the following ML algorithms do you use on a regular basis? (Select all that apply): - Selected Choice - Gradient Boosting Machines (xgboost, lightgbm, etc)",
         "Which of the following ML algorithms do you use on a regular basis? (Select all that apply): - Selected Choice - Bayesian Approaches",
         "Which of the following ML algorithms do you use on a regular basis? (Select all that apply): - Selected Choice - Evolutionary Approaches",
         "Which of the following ML algorithms do you use on a regular basis? (Select all that apply): - Selected Choice - Dense Neural Networks (MLPs, etc)",
         "Which of the following ML algorithms do you use on a regular basis? (Select all that apply): - Selected Choice - Convolutional Neural Networks",
         "Which of the following ML algorithms do you use on a regular basis? (Select all that apply): - Selected Choice - Generative Adversarial Networks",
         "Which of the following ML algorithms do you use on a regular basis? (Select all that apply): - Selected Choice - Recurrent Neural Networks",
         "Which of the following ML algorithms do you use on a regular basis? (Select all that apply): - Selected Choice - Transformer Networks (BERT, gpt-3, etc)",
         "Which of the following ML algorithms do you use on a regular basis? (Select all that apply): - Selected Choice - None",
         "Which of the following ML algorithms do you use on a regular basis? (Select all that apply): - Selected Choice - Other",
         "Which categories of computer vision methods do you use on a regular basis?  (Select all that apply) - Selected Choice - General purpose image/video tools (PIL, cv2, skimage, etc)",
         "Which categories of computer vision methods do you use on a regular basis?  (Select all that apply) - Selected Choice - Image segmentation methods (U-Net, Mask R-CNN, etc)",
         "Which categories of computer vision methods do you use on a regular basis?  (Select all that apply) - Selected Choice - Object detection methods (YOLOv3, RetinaNet, etc)",
         "Which categories of computer vision methods do you use on a regular basis?  (Select all that apply) - Selected Choice - Image classification and other general purpose networks (VGG, Inception, ResNet, ResNeXt, NASNet, EfficientNet, etc)",
         "Which categories of computer vision methods do you use on a regular basis?  (Select all that apply) - Selected Choice - Generative Networks (GAN, VAE, etc)",
         "Which categories of computer vision methods do you use on a regular basis?  (Select all that apply) - Selected Choice - None",
         "Which categories of computer vision methods do you use on a regular basis?  (Select all that apply) - Selected Choice - Other",
         "Which of the following natural language processing (NLP) methods do you use on a regular basis?  (Select all that apply) - Selected Choice - Word embeddings/vectors (GLoVe, fastText, word2vec)",
         "Which of the following natural language processing (NLP) methods do you use on a regular basis?  (Select all that apply) - Selected Choice - Encoder-decorder models (seq2seq, vanilla transformers)",
         "Which of the following natural language processing (NLP) methods do you use on a regular basis?  (Select all that apply) - Selected Choice - Contextualized embeddings (ELMo, CoVe)",
         "Which of the following natural language processing (NLP) methods do you use on a regular basis?  (Select all that apply) - Selected Choice - Transformer language models (GPT-3, BERT, XLnet, etc)",
         "Which of the following natural language processing (NLP) methods do you use on a regular basis?  (Select all that apply) - Selected Choice - None",
         "Which of the following natural language processing (NLP) methods do you use on a regular basis?  (Select all that apply) - Selected Choice - Other",
         "In what industry is your current employer/contract (or your most recent employer if retired)? - Selected Choice",
         "What is the size of the company where you are employed?",
         "Approximately how many individuals are responsible for data science workloads at your place of business?",
         "Does your current employer incorporate machine learning methods into their business?",
         "Select any activities that make up an important part of your role at work: (Select all that apply) - Selected Choice - Analyze and understand data to influence product or business decisions",
         "Select any activities that make up an important part of your role at work: (Select all that apply) - Selected Choice - Build and/or run the data infrastructure that my business uses for storing, analyzing, and operationalizing data",
         "Select any activities that make up an important part of your role at work: (Select all that apply) - Selected Choice - Build prototypes to explore applying machine learning to new areas",
         "Select any activities that make up an important part of your role at work: (Select all that apply) - Selected Choice - Build and/or run a machine learning service that operationally improves my product or workflows",
         "Select any activities that make up an important part of your role at work: (Select all that apply) - Selected Choice - Experimentation and iteration to improve existing ML models",
         "Select any activities that make up an important part of your role at work: (Select all that apply) - Selected Choice - Do research that advances the state of the art of machine learning",
         "Select any activities that make up an important part of your role at work: (Select all that apply) - Selected Choice - None of these activities are an important part of my role at work",
         "Select any activities that make up an important part of your role at work: (Select all that apply) - Selected Choice - Other",
         "What is your current yearly compensation (approximate $USD)?",
         "Approximately how much money have you (or your team) spent on machine learning and/or cloud computing services at home (or at work) in the past 5 years (approximate $USD)?",
         "Which of the following cloud computing platforms do you use on a regular basis? (Select all that apply) - Selected Choice -  Amazon Web Services (AWS) ",
         "Which of the following cloud computing platforms do you use on a regular basis? (Select all that apply) - Selected Choice -  Microsoft Azure ",
         "Which of the following cloud computing platforms do you use on a regular basis? (Select all that apply) - Selected Choice -  Google Cloud Platform (GCP) ",
         "Which of the following cloud computing platforms do you use on a regular basis? (Select all that apply) - Selected Choice -  IBM Cloud / Red Hat ",
         "Which of the following cloud computing platforms do you use on a regular basis? (Select all that apply) - Selected Choice -  Oracle Cloud ",
         "Which of the following cloud computing platforms do you use on a regular basis? (Select all that apply) - Selected Choice -  SAP Cloud ",
         "Which of the following cloud computing platforms do you use on a regular basis? (Select all that apply) - Selected Choice -  Salesforce Cloud ",
         "Which of the following cloud computing platforms do you use on a regular basis? (Select all that apply) - Selected Choice -  VMware Cloud ",
         "Which of the following cloud computing platforms do you use on a regular basis? (Select all that apply) - Selected Choice -  Alibaba Cloud ",
         "Which of the following cloud computing platforms do you use on a regular basis? (Select all that apply) - Selected Choice -  Tencent Cloud ",
         "Which of the following cloud computing platforms do you use on a regular basis? (Select all that apply) - Selected Choice - None",
         "Which of the following cloud computing platforms do you use on a regular basis? (Select all that apply) - Selected Choice - Other",
         "Do you use any of the following managed machine learning products on a regular basis? (Select all that apply) - Selected Choice -  Amazon SageMaker ",
         "Do you use any of the following managed machine learning products on a regular basis? (Select all that apply) - Selected Choice -  Azure Machine Learning Studio ",
         "Do you use any of the following managed machine learning products on a regular basis? (Select all that apply) - Selected Choice - No / None",
         "Do you use any of the following managed machine learning products on a regular basis? (Select all that apply) - Selected Choice - Other",
         "Which of the following big data products (relational databases, data warehouses, data lakes, or similar) do you use on a regular basis? (Select all that apply) - Selected Choice - MySQL ",
         "Which of the following big data products (relational databases, data warehouses, data lakes, or similar) do you use on a regular basis? (Select all that apply) - Selected Choice - PostgreSQL ",
         "Which of the following big data products (relational databases, data warehouses, data lakes, or similar) do you use on a regular basis? (Select all that apply) - Selected Choice - SQLite ",
         "Which of the following big data products (relational databases, data warehouses, data lakes, or similar) do you use on a regular basis? (Select all that apply) - Selected Choice - Oracle Database ",
         "Which of the following big data products (relational databases, data warehouses, data lakes, or similar) do you use on a regular basis? (Select all that apply) - Selected Choice - MongoDB ",
         "Which of the following big data products (relational databases, data warehouses, data lakes, or similar) do you use on a regular basis? (Select all that apply) - Selected Choice - Snowflake ",
         "Which of the following big data products (relational databases, data warehouses, data lakes, or similar) do you use on a regular basis? (Select all that apply) - Selected Choice - IBM Db2 ",
         "Which of the following big data products (relational databases, data warehouses, data lakes, or similar) do you use on a regular basis? (Select all that apply) - Selected Choice - Microsoft SQL Server ",
         "Which of the following big data products (relational databases, data warehouses, data lakes, or similar) do you use on a regular basis? (Select all that apply) - Selected Choice - Amazon Redshift ",
         "Which of the following big data products (relational databases, data warehouses, data lakes, or similar) do you use on a regular basis? (Select all that apply) - Selected Choice - Amazon DynamoDB ",
         "Which of the following big data products (relational databases, data warehouses, data lakes, or similar) do you use on a regular basis? (Select all that apply) - Selected Choice - Google Cloud BigQuery ",
         "Which of the following big data products (relational databases, data warehouses, data lakes, or similar) do you use on a regular basis? (Select all that apply) - Selected Choice - Google Cloud SQL ",
         "Which of the following big data products (relational databases, data warehouses, data lakes, or similar) do you use on a regular basis? (Select all that apply) - Selected Choice - Google Cloud Firestore ",
         "Which of the following big data products (relational databases, data warehouses, data lakes, or similar) do you use on a regular basis? (Select all that apply) - Selected Choice - None",
         "Which of the following big data products (relational databases, data warehouses, data lakes, or similar) do you use on a regular basis? (Select all that apply) - Selected Choice - Other",
         "Which of the following big data products (relational database, data warehouse, data lake, or similar) do you use most often? - Selected Choice",
         "Which of the following business intelligence tools do you use on a regular basis? (Select all that apply) - Selected Choice - Amazon QuickSight",
         "Which of the following business intelligence tools do you use on a regular basis? (Select all that apply) - Selected Choice - Microsoft Power BI",
         "Which of the following business intelligence tools do you use on a regular basis? (Select all that apply) - Selected Choice - Google Data Studio",
         "Which of the following business intelligence tools do you use on a regular basis? (Select all that apply) - Selected Choice - Looker",
         "Which of the following business intelligence tools do you use on a regular basis? (Select all that apply) - Selected Choice - Tableau",
         "Which of the following business intelligence tools do you use on a regular basis? (Select all that apply) - Selected Choice - Salesforce",
         "Which of the following business intelligence tools do you use on a regular basis? (Select all that apply) - Selected Choice - Qlik",
         "Which of the following business intelligence tools do you use on a regular basis? (Select all that apply) - Selected Choice - Domo",
         "Which of the following business intelligence tools do you use on a regular basis? (Select all that apply) - Selected Choice - TIBCO Spotfire",
         "Which of the following business intelligence tools do you use on a regular basis? (Select all that apply) - Selected Choice - Alteryx ",
         "Which of the following business intelligence tools do you use on a regular basis? (Select all that apply) - Selected Choice - Sisense ",
         "Which of the following business intelligence tools do you use on a regular basis? (Select all that apply) - Selected Choice - SAP Analytics Cloud ",
         "Which of the following business intelligence tools do you use on a regular basis? (Select all that apply) - Selected Choice - None",
         "Which of the following business intelligence tools do you use on a regular basis? (Select all that apply) - Selected Choice - Other",
         "Which of the following business intelligence tools do you use most often? - Selected Choice",
         "Do you use any automated machine learning tools (or partial AutoML tools) on a regular basis?  (Select all that apply) - Selected Choice - Automated data augmentation (e.g. imgaug, albumentations)",
         "Do you use any automated machine learning tools (or partial AutoML tools) on a regular basis?  (Select all that apply) - Selected Choice - Automated feature engineering/selection (e.g. tpot, boruta_py)",
         "Do you use any automated machine learning tools (or partial AutoML tools) on a regular basis?  (Select all that apply) - Selected Choice - Automated model selection (e.g. auto-sklearn, xcessiv)",
         "Do you use any automated machine learning tools (or partial AutoML tools) on a regular basis?  (Select all that apply) - Selected Choice - Automated model architecture searches (e.g. darts, enas)",
         "Do you use any automated machine learning tools (or partial AutoML tools) on a regular basis?  (Select all that apply) - Selected Choice - Automated hyperparameter tuning (e.g. hyperopt, ray.tune, Vizier)",
         "Do you use any automated machine learning tools (or partial AutoML tools) on a regular basis?  (Select all that apply) - Selected Choice - Automation of full ML pipelines (e.g. Google AutoML, H2O Driverless AI)",
         "Do you use any automated machine learning tools (or partial AutoML tools) on a regular basis?  (Select all that apply) - Selected Choice - No / None",
         "Do you use any automated machine learning tools (or partial AutoML tools) on a regular basis?  (Select all that apply) - Selected Choice - Other",
         "Which of the following automated machine learning tools (or partial AutoML tools) do you use on a regular basis?  (Select all that apply) - Selected Choice -  Google Cloud AutoML ",
         "Which of the following automated machine learning tools (or partial AutoML tools) do you use on a regular basis?  (Select all that apply) - Selected Choice -  H2O Driverless AI  ",
         "Which of the following automated machine learning tools (or partial AutoML tools) do you use on a regular basis?  (Select all that apply) - Selected Choice -  Databricks AutoML ",
         "Which of the following automated machine learning tools (or partial AutoML tools) do you use on a regular basis?  (Select all that apply) - Selected Choice -  DataRobot AutoML ",
         "Which of the following automated machine learning tools (or partial AutoML tools) do you use on a regular basis?  (Select all that apply) - Selected Choice - No / None",
         "Which of the following automated machine learning tools (or partial AutoML tools) do you use on a regular basis?  (Select all that apply) - Selected Choice - Other",
         "Do you use any tools to help manage machine learning experiments? (Select all that apply) - Selected Choice -  Neptune.ai ",
         "Do you use any tools to help manage machine learning experiments? (Select all that apply) - Selected Choice -  Weights & Biases ",
         "Do you use any tools to help manage machine learning experiments? (Select all that apply) - Selected Choice -  Comet.ml ",
         "Do you use any tools to help manage machine learning experiments? (Select all that apply) - Selected Choice -  Sacred + Omniboard ",
         "Do you use any tools to help manage machine learning experiments? (Select all that apply) - Selected Choice -  TensorBoard ",
         "Do you use any tools to help manage machine learning experiments? (Select all that apply) - Selected Choice -  Guild.ai ",
         "Do you use any tools to help manage machine learning experiments? (Select all that apply) - Selected Choice -  Polyaxon ",
         "Do you use any tools to help manage machine learning experiments? (Select all that apply) - Selected Choice -  Domino Model Monitor ",
         "Do you use any tools to help manage machine learning experiments? (Select all that apply) - Selected Choice - No / None",
         "Do you use any tools to help manage machine learning experiments? (Select all that apply) - Selected Choice - Other",
         "Where do you publicly share your data analysis or machine learning applications? (Select all that apply) - Selected Choice -  Plotly Dash ",
         "Where do you publicly share your data analysis or machine learning applications? (Select all that apply) - Selected Choice -  Streamlit ",
         "Where do you publicly share your data analysis or machine learning applications? (Select all that apply) - Selected Choice -  NBViewer ",
         "Where do you publicly share your data analysis or machine learning applications? (Select all that apply) - Selected Choice -  GitHub ",
         "Where do you publicly share your data analysis or machine learning applications? (Select all that apply) - Selected Choice -  Personal blog ",
         "Where do you publicly share your data analysis or machine learning applications? (Select all that apply) - Selected Choice -  Kaggle ",
         "Where do you publicly share your data analysis or machine learning applications? (Select all that apply) - Selected Choice -  Colab ",
         "Where do you publicly share your data analysis or machine learning applications? (Select all that apply) - Selected Choice -  Shiny ",
         "Where do you publicly share your data analysis or machine learning applications? (Select all that apply) - Selected Choice - I do not share my work publicly",
         "Where do you publicly share your data analysis or machine learning applications? (Select all that apply) - Selected Choice - Other",
         "On which platforms have you begun or completed data science courses? (Select all that apply) - Selected Choice - Coursera",
         "On which platforms have you begun or completed data science courses? (Select all that apply) - Selected Choice - edX",
         "On which platforms have you begun or completed data science courses? (Select all that apply) - Selected Choice - Kaggle Learn Courses",
         "On which platforms have you begun or completed data science courses? (Select all that apply) - Selected Choice - DataCamp",
         "On which platforms have you begun or completed data science courses? (Select all that apply) - Selected Choice - Fast.ai",
         "On which platforms have you begun or completed data science courses? (Select all that apply) - Selected Choice - Udacity",
         "On which platforms have you begun or completed data science courses? (Select all that apply) - Selected Choice - Udemy",
         "On which platforms have you begun or completed data science courses? (Select all that apply) - Selected Choice - LinkedIn Learning",
         "On which platforms have you begun or completed data science courses? (Select all that apply) - Selected Choice - Cloud-certification programs (direct from AWS, Azure, GCP, or similar)",
         "On which platforms have you begun or completed data science courses? (Select all that apply) - Selected Choice - University Courses (resulting in a university degree)",
         "On which platforms have you begun or completed data science courses? (Select all that apply) - Selected Choice - None",
         "On which platforms have you begun or completed data science courses? (Select all that apply) - Selected Choice - Other",
         "What is the primary tool that you use at work or school to analyze data? (Include text response) - Selected Choice",
         "Who/what are your favorite media sources that report on data science topics? (Select all that apply) - Selected Choice - Twitter (data science influencers)",
         "Who/what are your favorite media sources that report on data science topics? (Select all that apply) - Selected Choice - Email newsletters (Data Elixir, O'Reilly Data & AI, etc)",
         "Who/what are your favorite media sources that report on data science topics? (Select all that apply) - Selected Choice - Reddit (r/machinelearning, etc)",
         "Who/what are your favorite media sources that report on data science topics? (Select all that apply) - Selected Choice - Kaggle (notebooks, forums, etc)",
         "Who/what are your favorite media sources that report on data science topics? (Select all that apply) - Selected Choice - Course Forums (forums.fast.ai, Coursera forums, etc)",
         "Who/what are your favorite media sources that report on data science topics? (Select all that apply) - Selected Choice - YouTube (Kaggle YouTube, Cloud AI Adventures, etc)",
         "Who/what are your favorite media sources that report on data science topics? (Select all that apply) - Selected Choice - Podcasts (Chai Time Data Science, Oâ€™Reilly Data Show, etc)",
         "Who/what are your favorite media sources that report on data science topics? (Select all that apply) - Selected Choice - Blogs (Towards Data Science, Analytics Vidhya, etc)",
         "Who/what are your favorite media sources that report on data science topics? (Select all that apply) - Selected Choice - Journal Publications (peer-reviewed journals, conference proceedings, etc)",
         "Who/what are your favorite media sources that report on data science topics? (Select all that apply) - Selected Choice - Slack Communities (ods.ai, kagglenoobs, etc)",
         "Who/what are your favorite media sources that report on data science topics? (Select all that apply) - Selected Choice - None",
         "Who/what are your favorite media sources that report on data science topics? (Select all that apply) - Selected Choice - Other",
         "Which of the following cloud computing platforms do you hope to become more familiar with in the next 2 years? - Selected Choice -  Amazon Web Services (AWS) ",
         "Which of the following cloud computing platforms do you hope to become more familiar with in the next 2 years? - Selected Choice -  Microsoft Azure ",
         "Which of the following cloud computing platforms do you hope to become more familiar with in the next 2 years? - Selected Choice -  Google Cloud Platform (GCP) ",
         "Which of the following cloud computing platforms do you hope to become more familiar with in the next 2 years? - Selected Choice -  IBM Cloud / Red Hat ",
         "Which of the following cloud computing platforms do you hope to become more familiar with in the next 2 years? - Selected Choice -  Oracle Cloud ",
         "Which of the following cloud computing platforms do you hope to become more familiar with in the next 2 years? - Selected Choice -  SAP Cloud ",
         "Which of the following cloud computing platforms do you hope to become more familiar with in the next 2 years? - Selected Choice -  VMware Cloud ",
         "Which of the following cloud computing platforms do you hope to become more familiar with in the next 2 years? - Selected Choice -  Salesforce Cloud ",
         "Which of the following cloud computing platforms do you hope to become more familiar with in the next 2 years? - Selected Choice -  Alibaba Cloud ",
         "Which of the following cloud computing platforms do you hope to become more familiar with in the next 2 years? - Selected Choice -  Tencent Cloud ",
         "Which of the following cloud computing platforms do you hope to become more familiar with in the next 2 years? - Selected Choice - None",
         "Which of the following cloud computing platforms do you hope to become more familiar with in the next 2 years? - Selected Choice - Other",
         "Which of the following big data products (relational databases, data warehouses, data lakes, or similar) do you hope to become more familiar with in the next 2 years? (Select all that apply) - Selected Choice - MySQL ",
         "Which of the following big data products (relational databases, data warehouses, data lakes, or similar) do you hope to become more familiar with in the next 2 years? (Select all that apply) - Selected Choice - PostgreSQL ",
         "Which of the following big data products (relational databases, data warehouses, data lakes, or similar) do you hope to become more familiar with in the next 2 years? (Select all that apply) - Selected Choice - SQLite ",
         "Which of the following big data products (relational databases, data warehouses, data lakes, or similar) do you hope to become more familiar with in the next 2 years? (Select all that apply) - Selected Choice - Oracle Database ",
         "Which of the following big data products (relational databases, data warehouses, data lakes, or similar) do you hope to become more familiar with in the next 2 years? (Select all that apply) - Selected Choice - MongoDB ",
         "Which of the following big data products (relational databases, data warehouses, data lakes, or similar) do you hope to become more familiar with in the next 2 years? (Select all that apply) - Selected Choice - Snowflake ",
         "Which of the following big data products (relational databases, data warehouses, data lakes, or similar) do you hope to become more familiar with in the next 2 years? (Select all that apply) - Selected Choice - IBM Db2 ",
         "Which of the following big data products (relational databases, data warehouses, data lakes, or similar) do you hope to become more familiar with in the next 2 years? (Select all that apply) - Selected Choice - Microsoft SQL Server ",
         "Which of the following big data products (relational databases, data warehouses, data lakes, or similar) do you hope to become more familiar with in the next 2 years? (Select all that apply) - Selected Choice - Amazon Redshift ",
         "Which of the following big data products (relational databases, data warehouses, data lakes, or similar) do you hope to become more familiar with in the next 2 years? (Select all that apply) - Selected Choice - Amazon DynamoDB ",
         "Which of the following big data products (relational databases, data warehouses, data lakes, or similar) do you hope to become more familiar with in the next 2 years? (Select all that apply) - Selected Choice - Google Cloud BigQuery ",
         "Which of the following big data products (relational databases, data warehouses, data lakes, or similar) do you hope to become more familiar with in the next 2 years? (Select all that apply) - Selected Choice - Google Cloud SQL ",
         "Which of the following big data products (relational databases, data warehouses, data lakes, or similar) do you hope to become more familiar with in the next 2 years? (Select all that apply) - Selected Choice - Google Cloud Firestore ",
         "Which of the following big data products (relational databases, data warehouses, data lakes, or similar) do you hope to become more familiar with in the next 2 years? (Select all that apply) - Selected Choice - None",
         "Which of the following big data products (relational databases, data warehouses, data lakes, or similar) do you hope to become more familiar with in the next 2 years? (Select all that apply) - Selected Choice - Other",
         "Which of the following business intelligence tools do you hope to become more familiar with in the next 2 years? (Select all that apply) - Selected Choice - Microsoft Power BI",
         "Which of the following business intelligence tools do you hope to become more familiar with in the next 2 years? (Select all that apply) - Selected Choice - Amazon QuickSight",
         "Which of the following business intelligence tools do you hope to become more familiar with in the next 2 years? (Select all that apply) - Selected Choice - Google Data Studio",
         "Which of the following business intelligence tools do you hope to become more familiar with in the next 2 years? (Select all that apply) - Selected Choice - Looker",
         "Which of the following business intelligence tools do you hope to become more familiar with in the next 2 years? (Select all that apply) - Selected Choice - Tableau",
         "Which of the following business intelligence tools do you hope to become more familiar with in the next 2 years? (Select all that apply) - Selected Choice - Salesforce",
         "Which of the following business intelligence tools do you hope to become more familiar with in the next 2 years? (Select all that apply) - Selected Choice - Qlik",
         "Which of the following business intelligence tools do you hope to become more familiar with in the next 2 years? (Select all that apply) - Selected Choice - Domo",
         "Which of the following business intelligence tools do you hope to become more familiar with in the next 2 years? (Select all that apply) - Selected Choice - TIBCO Spotfire",
         "Which of the following business intelligence tools do you hope to become more familiar with in the next 2 years? (Select all that apply) - Selected Choice - Alteryx ",
         "Which of the following business intelligence tools do you hope to become more familiar with in the next 2 years? (Select all that apply) - Selected Choice - Sisense ",
         "Which of the following business intelligence tools do you hope to become more familiar with in the next 2 years? (Select all that apply) - Selected Choice - SAP Analytics Cloud ",
         "Which of the following business intelligence tools do you hope to become more familiar with in the next 2 years? (Select all that apply) - Selected Choice - None",
         "Which of the following business intelligence tools do you hope to become more familiar with in the next 2 years? (Select all that apply) - Selected Choice - Other",
         "Which categories of automated machine learning tools (or partial AutoML tools) do you hope to become more familiar with in the next 2 years?  (Select all that apply) - Selected Choice - Automated data augmentation (e.g. imgaug, albumentations)",
         "Which categories of automated machine learning tools (or partial AutoML tools) do you hope to become more familiar with in the next 2 years?  (Select all that apply) - Selected Choice - Automated feature engineering/selection (e.g. tpot, boruta_py)",
         "Which categories of automated machine learning tools (or partial AutoML tools) do you hope to become more familiar with in the next 2 years?  (Select all that apply) - Selected Choice - Automated model selection (e.g. auto-sklearn, xcessiv)",
         "Which categories of automated machine learning tools (or partial AutoML tools) do you hope to become more familiar with in the next 2 years?  (Select all that apply) - Selected Choice - Automated model architecture searches (e.g. darts, enas)",
         "Which categories of automated machine learning tools (or partial AutoML tools) do you hope to become more familiar with in the next 2 years?  (Select all that apply) - Selected Choice - Automated hyperparameter tuning (e.g. hyperopt, ray.tune, Vizier)",
         "Which categories of automated machine learning tools (or partial AutoML tools) do you hope to become more familiar with in the next 2 years?  (Select all that apply) - Selected Choice - Automation of full ML pipelines (e.g. Google Cloud AutoML, H2O Driverless AI)",
         "Which categories of automated machine learning tools (or partial AutoML tools) do you hope to become more familiar with in the next 2 years?  (Select all that apply) - Selected Choice - None",
         "Which categories of automated machine learning tools (or partial AutoML tools) do you hope to become more familiar with in the next 2 years?  (Select all that apply) - Selected Choice - Other",
         "Which specific automated machine learning tools (or partial AutoML tools) do you hope to become more familiar with in the next 2 years?  (Select all that apply) - Selected Choice -  Google Cloud AutoML ",
         "Which specific automated machine learning tools (or partial AutoML tools) do you hope to become more familiar with in the next 2 years?  (Select all that apply) - Selected Choice -  H2O Driverless AI  ",
         "Which specific automated machine learning tools (or partial AutoML tools) do you hope to become more familiar with in the next 2 years?  (Select all that apply) - Selected Choice -  Databricks AutoML ",
         "Which specific automated machine learning tools (or partial AutoML tools) do you hope to become more familiar with in the next 2 years?  (Select all that apply) - Selected Choice -  DataRobot AutoML ",
         "Which specific automated machine learning tools (or partial AutoML tools) do you hope to become more familiar with in the next 2 years?  (Select all that apply) - Selected Choice - None",
         "Which specific automated machine learning tools (or partial AutoML tools) do you hope to become more familiar with in the next 2 years?  (Select all that apply) - Selected Choice - Other",
         "In the next 2 years, do you hope to become more familiar with any of these tools for managing ML experiments? (Select all that apply) - Selected Choice -  Neptune.ai ",
         "In the next 2 years, do you hope to become more familiar with any of these tools for managing ML experiments? (Select all that apply) - Selected Choice -  Weights & Biases ",
         "In the next 2 years, do you hope to become more familiar with any of these tools for managing ML experiments? (Select all that apply) - Selected Choice -  Comet.ml ",
         "In the next 2 years, do you hope to become more familiar with any of these tools for managing ML experiments? (Select all that apply) - Selected Choice -  Sacred + Omniboard ",
         "In the next 2 years, do you hope to become more familiar with any of these tools for managing ML experiments? (Select all that apply) - Selected Choice -  TensorBoard ",
         "In the next 2 years, do you hope to become more familiar with any of these tools for managing ML experiments? (Select all that apply) - Selected Choice -  Guild.ai ",
         "In the next 2 years, do you hope to become more familiar with any of these tools for managing ML experiments? (Select all that apply) - Selected Choice -  Polyaxon ",
         "In the next 2 years, do you hope to become more familiar with any of these tools for managing ML experiments? (Select all that apply) - Selected Choice -  Domino Model Monitor ",
         "In the next 2 years, do you hope to become more familiar with any of these tools for managing ML experiments? (Select all that apply) - Selected Choice - None",
         "In the next 2 years, do you hope to become more familiar with any of these tools for managing ML experiments? (Select all that apply) - Selected Choice - Other"
        ],
        [
         "1",
         "2021",
         "910",
         "50-54",
         "Man",
         "India",
         "Bachelorâ€™s degree",
         "Other",
         "5-10 years",
         "Python",
         "R",
         null,
         null,
         null,
         null,
         null,
         null,
         null,
         null,
         null,
         null,
         null,
         "Python",
         null,
         null,
         null,
         null,
         null,
         null,
         null,
         "  Vim / Emacs  ",
         null,
         null,
         null,
         null,
         "Colab Notebooks",
         null,
         null,
         null,
         null,
         null,
         null,
         null,
         null,
         null,
         null,
         null,
         null,
         "A laptop",
         null,
         null,
         " Google Cloud TPUs ",
         null,
         null,
         "2-5 times",
         " Matplotlib ",
         " Seaborn ",
         null,
         " Ggplot / ggplot2 ",
         " Shiny ",
         null,
         null,
         null,
         null,
         " Leaflet / Folium ",
         null,
         null,
         "5-10 years",
         "  Scikit-learn ",
         "  TensorFlow ",
         null,
         null,
         null,
         null,
         null,
         null,
         null,
         null,
         null,
         " Caret ",
         null,
         null,
         null,
         null,
         "Linear or Logistic Regression",
         "Decision Trees or Random Forests",
         "Gradient Boosting Machines (xgboost, lightgbm, etc)",
         "Bayesian Approaches",
         null,
         "Dense Neural Networks (MLPs, etc)",
         "Convolutional Neural Networks",
         null,
         "Recurrent Neural Networks",
         null,
         null,
         null,
         "General purpose image/video tools (PIL, cv2, skimage, etc)",
         null,
         null,
         null,
         null,
         null,
         null,
         "Word embeddings/vectors (GLoVe, fastText, word2vec)",
         null,
         null,
         null,
         null,
         null,
         "Manufacturing/Fabrication",
         "50-249 employees",
         "4-Mar",
         "No (we do not use ML methods)",
         null,
         null,
         null,
         null,
         null,
         null,
         "None of these activities are an important part of my role at work",
         null,
         "25,000-29,999",
         "$100-$999",
         null,
         null,
         " Google Cloud Platform (GCP) ",
         null,
         null,
         null,
         null,
         null,
         null,
         null,
         null,
         null,
         null,
         null,
         "No / None",
         null,
         null,
         "PostgreSQL ",
         null,
         null,
         null,
         null,
         null,
         null,
         null,
         null,
         null,
         null,
         null,
         null,
         null,
         null,
         null,
         null,
         null,
         null,
         null,
         null,
         null,
         null,
         null,
         null,
         null,
         null,
         null,
         null,
         null,
         null,
         null,
         null,
         null,
         null,
         null,
         "No / None",
         null,
         null,
         null,
         null,
         null,
         null,
         null,
         null,
         null,
         null,
         null,
         null,
         null,
         null,
         null,
         "No / None",
         null,
         null,
         null,
         null,
         " GitHub ",
         null,
         " Kaggle ",
         null,
         null,
         null,
         null,
         "Coursera",
         "edX",
         "Kaggle Learn Courses",
         "DataCamp",
         null,
         "Udacity",
         "Udemy",
         null,
         null,
         null,
         null,
         null,
         "Local development environments (RStudio, JupyterLab, etc.)",
         null,
         "Email newsletters (Data Elixir, O'Reilly Data & AI, etc)",
         null,
         "Kaggle (notebooks, forums, etc)",
         null,
         "YouTube (Kaggle YouTube, Cloud AI Adventures, etc)",
         "Podcasts (Chai Time Data Science, Oâ€™Reilly Data Show, etc)",
         "Blogs (Towards Data Science, Analytics Vidhya, etc)",
         "Journal Publications (peer-reviewed journals, conference proceedings, etc)",
         null,
         null,
         null,
         null,
         null,
         null,
         null,
         null,
         null,
         null,
         null,
         null,
         null,
         null,
         null,
         null,
         null,
         null,
         null,
         null,
         null,
         null,
         null,
         null,
         null,
         null,
         null,
         null,
         null,
         null,
         null,
         null,
         null,
         null,
         null,
         null,
         null,
         null,
         null,
         null,
         null,
         null,
         null,
         null,
         null,
         null,
         null,
         null,
         null,
         null,
         null,
         null,
         null,
         null,
         null,
         null,
         null,
         null,
         null,
         null,
         null,
         null,
         null,
         null,
         null,
         null,
         null,
         null
        ],
        [
         "2",
         "2021",
         "784",
         "50-54",
         "Man",
         "Indonesia",
         "Masterâ€™s degree",
         "Program/Project Manager",
         "20+ years",
         null,
         null,
         "SQL",
         "C",
         "C++",
         "Java",
         null,
         null,
         null,
         null,
         null,
         null,
         null,
         "Python",
         null,
         null,
         null,
         null,
         null,
         "  Notepad++  ",
         null,
         null,
         null,
         null,
         null,
         " Kaggle Notebooks",
         "Colab Notebooks",
         null,
         null,
         null,
         null,
         null,
         null,
         null,
         null,
         null,
         null,
         null,
         null,
         "A cloud computing platform (AWS, Azure, GCP, hosted notebooks, etc)",
         null,
         null,
         null,
         null,
         null,
         "Never",
         " Matplotlib ",
         null,
         null,
         null,
         null,
         null,
         null,
         null,
         null,
         null,
         null,
         null,
         "Under 1 year",
         "  Scikit-learn ",
         null,
         null,
         null,
         null,
         null,
         null,
         null,
         null,
         null,
         null,
         null,
         null,
         null,
         null,
         null,
         "Linear or Logistic Regression",
         "Decision Trees or Random Forests",
         null,
         null,
         null,
         null,
         null,
         null,
         null,
         null,
         null,
         null,
         null,
         null,
         null,
         null,
         null,
         null,
         null,
         null,
         null,
         null,
         null,
         null,
         null,
         "Manufacturing/Fabrication",
         "1000-9,999 employees",
         "2-Jan",
         "We are exploring ML methods (and may one day put a model into production)",
         null,
         "Build and/or run the data infrastructure that my business uses for storing, analyzing, and operationalizing data",
         null,
         null,
         null,
         null,
         null,
         null,
         "60,000-69,999",
         "$0 ($USD)",
         null,
         null,
         null,
         null,
         null,
         null,
         null,
         null,
         null,
         null,
         null,
         null,
         null,
         null,
         null,
         null,
         null,
         null,
         null,
         null,
         null,
         null,
         null,
         null,
         null,
         null,
         null,
         null,
         null,
         null,
         null,
         null,
         null,
         null,
         null,
         null,
         null,
         null,
         null,
         null,
         null,
         null,
         null,
         null,
         null,
         null,
         null,
         null,
         null,
         null,
         null,
         null,
         null,
         null,
         null,
         null,
         null,
         null,
         null,
         null,
         null,
         null,
         null,
         null,
         null,
         null,
         null,
         null,
         null,
         null,
         null,
         null,
         null,
         null,
         null,
         null,
         null,
         null,
         null,
         null,
         null,
         null,
         null,
         "Kaggle Learn Courses",
         null,
         null,
         null,
         null,
         null,
         "Cloud-certification programs (direct from AWS, Azure, GCP, or similar)",
         "University Courses (resulting in a university degree)",
         null,
         null,
         "Advanced statistical software (SPSS, SAS, etc.)",
         null,
         null,
         null,
         null,
         null,
         null,
         null,
         null,
         "Journal Publications (peer-reviewed journals, conference proceedings, etc)",
         null,
         null,
         null,
         null,
         null,
         " Google Cloud Platform (GCP) ",
         null,
         " Oracle Cloud ",
         null,
         null,
         null,
         null,
         null,
         null,
         null,
         "MySQL ",
         null,
         "SQLite ",
         "Oracle Database ",
         null,
         null,
         null,
         null,
         null,
         null,
         null,
         "Google Cloud SQL ",
         null,
         null,
         null,
         null,
         null,
         "Google Data Studio",
         null,
         null,
         null,
         "Qlik",
         null,
         null,
         null,
         null,
         null,
         null,
         null,
         null,
         null,
         "Automated model selection (e.g. auto-sklearn, xcessiv)",
         null,
         null,
         null,
         null,
         null,
         " Google Cloud AutoML ",
         null,
         null,
         null,
         null,
         null,
         null,
         null,
         null,
         null,
         null,
         null,
         null,
         null,
         null,
         null
        ],
        [
         "3",
         "2021",
         "924",
         "22-24",
         "Man",
         "Pakistan",
         "Masterâ€™s degree",
         "Software Engineer",
         "1-3 years",
         "Python",
         null,
         null,
         null,
         "C++",
         "Java",
         null,
         null,
         null,
         null,
         null,
         null,
         null,
         "Python",
         null,
         null,
         null,
         " PyCharm ",
         null,
         null,
         null,
         null,
         null,
         null,
         "Other",
         " Kaggle Notebooks",
         null,
         null,
         null,
         null,
         null,
         null,
         null,
         null,
         null,
         null,
         null,
         null,
         null,
         "A laptop",
         null,
         null,
         null,
         null,
         "Other",
         "Never",
         " Matplotlib ",
         null,
         null,
         null,
         null,
         null,
         null,
         null,
         null,
         null,
         null,
         null,
         "I do not use machine learning methods",
         null,
         null,
         null,
         null,
         null,
         null,
         null,
         null,
         null,
         null,
         null,
         null,
         null,
         null,
         null,
         null,
         null,
         null,
         null,
         null,
         null,
         null,
         null,
         null,
         null,
         null,
         null,
         null,
         null,
         null,
         null,
         null,
         null,
         null,
         null,
         null,
         null,
         null,
         null,
         null,
         null,
         "Academics/Education",
         "1000-9,999 employees",
         "0",
         "I do not know",
         null,
         null,
         null,
         null,
         null,
         null,
         "None of these activities are an important part of my role at work",
         null,
         "$0-999",
         "$0 ($USD)",
         null,
         null,
         null,
         null,
         null,
         null,
         null,
         null,
         null,
         null,
         null,
         null,
         null,
         null,
         null,
         null,
         "MySQL ",
         null,
         null,
         null,
         "MongoDB ",
         null,
         null,
         null,
         null,
         null,
         null,
         null,
         null,
         null,
         null,
         "MySQL ",
         null,
         null,
         null,
         null,
         null,
         null,
         null,
         null,
         null,
         null,
         null,
         null,
         null,
         null,
         null,
         null,
         null,
         null,
         null,
         null,
         null,
         "No / None",
         null,
         null,
         null,
         null,
         null,
         null,
         null,
         null,
         null,
         null,
         null,
         null,
         null,
         null,
         null,
         "No / None",
         null,
         null,
         null,
         null,
         null,
         null,
         null,
         null,
         null,
         "I do not share my work publicly",
         null,
         null,
         null,
         null,
         "DataCamp",
         null,
         null,
         null,
         null,
         null,
         null,
         null,
         null,
         "Basic statistical software (Microsoft Excel, Google Sheets, etc.)",
         null,
         null,
         null,
         "Kaggle (notebooks, forums, etc)",
         null,
         "YouTube (Kaggle YouTube, Cloud AI Adventures, etc)",
         null,
         null,
         null,
         null,
         null,
         null,
         " Amazon Web Services (AWS) ",
         null,
         " Google Cloud Platform (GCP) ",
         null,
         null,
         null,
         null,
         null,
         null,
         null,
         null,
         null,
         "MySQL ",
         "PostgreSQL ",
         null,
         null,
         "MongoDB ",
         null,
         null,
         null,
         null,
         null,
         null,
         null,
         null,
         null,
         null,
         "Microsoft Power BI",
         null,
         null,
         null,
         "Tableau",
         null,
         null,
         null,
         null,
         null,
         null,
         null,
         null,
         null,
         null,
         null,
         "Automated model selection (e.g. auto-sklearn, xcessiv)",
         null,
         null,
         null,
         null,
         null,
         null,
         null,
         null,
         " DataRobot AutoML ",
         null,
         null,
         null,
         null,
         null,
         null,
         " TensorBoard ",
         null,
         null,
         null,
         null,
         null
        ],
        [
         "4",
         "2021",
         "575",
         "45-49",
         "Man",
         "Mexico",
         "Doctoral degree",
         "Research Scientist",
         "20+ years",
         "Python",
         null,
         null,
         null,
         null,
         null,
         null,
         null,
         null,
         null,
         null,
         null,
         null,
         "Python",
         null,
         null,
         null,
         null,
         "  Spyder  ",
         null,
         null,
         null,
         null,
         null,
         null,
         null,
         "Colab Notebooks",
         null,
         null,
         null,
         null,
         null,
         null,
         null,
         null,
         null,
         null,
         null,
         null,
         "A cloud computing platform (AWS, Azure, GCP, hosted notebooks, etc)",
         null,
         " NVIDIA GPUs ",
         null,
         null,
         null,
         "More than 25 times",
         " Matplotlib ",
         null,
         null,
         null,
         null,
         null,
         null,
         null,
         null,
         null,
         null,
         null,
         "5-10 years",
         "  Scikit-learn ",
         "  TensorFlow ",
         " Keras ",
         null,
         null,
         null,
         null,
         null,
         null,
         null,
         null,
         null,
         null,
         null,
         null,
         null,
         null,
         null,
         null,
         null,
         null,
         "Dense Neural Networks (MLPs, etc)",
         "Convolutional Neural Networks",
         null,
         "Recurrent Neural Networks",
         null,
         null,
         null,
         "General purpose image/video tools (PIL, cv2, skimage, etc)",
         "Image segmentation methods (U-Net, Mask R-CNN, etc)",
         "Object detection methods (YOLOv3, RetinaNet, etc)",
         "Image classification and other general purpose networks (VGG, Inception, ResNet, ResNeXt, NASNet, EfficientNet, etc)",
         null,
         null,
         null,
         null,
         null,
         null,
         null,
         null,
         null,
         "Academics/Education",
         "1000-9,999 employees",
         "0",
         "I do not know",
         null,
         null,
         null,
         null,
         null,
         "Do research that advances the state of the art of machine learning",
         null,
         null,
         "30,000-39,999",
         "$0 ($USD)",
         null,
         null,
         null,
         null,
         null,
         null,
         null,
         null,
         null,
         null,
         null,
         null,
         null,
         null,
         null,
         null,
         null,
         null,
         null,
         null,
         null,
         null,
         null,
         null,
         null,
         null,
         null,
         null,
         null,
         null,
         null,
         null,
         null,
         null,
         null,
         null,
         null,
         null,
         null,
         null,
         null,
         null,
         null,
         null,
         null,
         null,
         null,
         null,
         null,
         null,
         null,
         null,
         null,
         null,
         null,
         null,
         null,
         null,
         null,
         null,
         null,
         null,
         null,
         null,
         null,
         null,
         null,
         null,
         null,
         null,
         null,
         null,
         null,
         null,
         null,
         null,
         null,
         null,
         null,
         null,
         null,
         "Coursera",
         "edX",
         null,
         null,
         null,
         null,
         null,
         null,
         null,
         null,
         null,
         null,
         "Local development environments (RStudio, JupyterLab, etc.)",
         null,
         null,
         null,
         null,
         null,
         "YouTube (Kaggle YouTube, Cloud AI Adventures, etc)",
         null,
         "Blogs (Towards Data Science, Analytics Vidhya, etc)",
         "Journal Publications (peer-reviewed journals, conference proceedings, etc)",
         null,
         null,
         null,
         " Amazon Web Services (AWS) ",
         " Microsoft Azure ",
         null,
         null,
         null,
         null,
         null,
         null,
         null,
         null,
         null,
         null,
         null,
         null,
         null,
         null,
         null,
         null,
         null,
         null,
         null,
         null,
         null,
         null,
         null,
         null,
         null,
         null,
         null,
         null,
         null,
         null,
         null,
         null,
         null,
         null,
         null,
         null,
         null,
         null,
         null,
         null,
         null,
         null,
         null,
         null,
         null,
         null,
         null,
         null,
         null,
         null,
         null,
         null,
         null,
         null,
         null,
         null,
         null,
         null,
         null,
         null,
         null,
         null,
         null
        ]
       ],
       "shape": {
        "columns": 293,
        "rows": 5
       }
      },
      "text/html": [
       "<div>\n",
       "<style scoped>\n",
       "    .dataframe tbody tr th:only-of-type {\n",
       "        vertical-align: middle;\n",
       "    }\n",
       "\n",
       "    .dataframe tbody tr th {\n",
       "        vertical-align: top;\n",
       "    }\n",
       "\n",
       "    .dataframe thead th {\n",
       "        text-align: right;\n",
       "    }\n",
       "</style>\n",
       "<table border=\"1\" class=\"dataframe\">\n",
       "  <thead>\n",
       "    <tr style=\"text-align: right;\">\n",
       "      <th></th>\n",
       "      <th>-</th>\n",
       "      <th>Time from Start to Finish (seconds)</th>\n",
       "      <th>Q1</th>\n",
       "      <th>Q2</th>\n",
       "      <th>Q3</th>\n",
       "      <th>Q4</th>\n",
       "      <th>Q5</th>\n",
       "      <th>Q6</th>\n",
       "      <th>Q7_Part_1</th>\n",
       "      <th>Q7_Part_2</th>\n",
       "      <th>...</th>\n",
       "      <th>Q38_B_Part_1</th>\n",
       "      <th>Q38_B_Part_2</th>\n",
       "      <th>Q38_B_Part_3</th>\n",
       "      <th>Q38_B_Part_4</th>\n",
       "      <th>Q38_B_Part_5</th>\n",
       "      <th>Q38_B_Part_6</th>\n",
       "      <th>Q38_B_Part_7</th>\n",
       "      <th>Q38_B_Part_9</th>\n",
       "      <th>Q38_B_Part_11</th>\n",
       "      <th>Q38_B_OTHER</th>\n",
       "    </tr>\n",
       "  </thead>\n",
       "  <tbody>\n",
       "    <tr>\n",
       "      <th>0</th>\n",
       "      <td>Year</td>\n",
       "      <td>Duration (in seconds)</td>\n",
       "      <td>What is your age (# years)?</td>\n",
       "      <td>What is your gender? - Selected Choice</td>\n",
       "      <td>In which country do you currently reside?</td>\n",
       "      <td>What is the highest level of formal education ...</td>\n",
       "      <td>Select the title most similar to your current ...</td>\n",
       "      <td>For how many years have you been writing code ...</td>\n",
       "      <td>What programming languages do you use on a reg...</td>\n",
       "      <td>What programming languages do you use on a reg...</td>\n",
       "      <td>...</td>\n",
       "      <td>In the next 2 years, do you hope to become mor...</td>\n",
       "      <td>In the next 2 years, do you hope to become mor...</td>\n",
       "      <td>In the next 2 years, do you hope to become mor...</td>\n",
       "      <td>In the next 2 years, do you hope to become mor...</td>\n",
       "      <td>In the next 2 years, do you hope to become mor...</td>\n",
       "      <td>In the next 2 years, do you hope to become mor...</td>\n",
       "      <td>In the next 2 years, do you hope to become mor...</td>\n",
       "      <td>In the next 2 years, do you hope to become mor...</td>\n",
       "      <td>In the next 2 years, do you hope to become mor...</td>\n",
       "      <td>In the next 2 years, do you hope to become mor...</td>\n",
       "    </tr>\n",
       "    <tr>\n",
       "      <th>1</th>\n",
       "      <td>2021</td>\n",
       "      <td>910</td>\n",
       "      <td>50-54</td>\n",
       "      <td>Man</td>\n",
       "      <td>India</td>\n",
       "      <td>Bachelorâ€™s degree</td>\n",
       "      <td>Other</td>\n",
       "      <td>5-10 years</td>\n",
       "      <td>Python</td>\n",
       "      <td>R</td>\n",
       "      <td>...</td>\n",
       "      <td>NaN</td>\n",
       "      <td>NaN</td>\n",
       "      <td>NaN</td>\n",
       "      <td>NaN</td>\n",
       "      <td>NaN</td>\n",
       "      <td>NaN</td>\n",
       "      <td>NaN</td>\n",
       "      <td>NaN</td>\n",
       "      <td>NaN</td>\n",
       "      <td>NaN</td>\n",
       "    </tr>\n",
       "    <tr>\n",
       "      <th>2</th>\n",
       "      <td>2021</td>\n",
       "      <td>784</td>\n",
       "      <td>50-54</td>\n",
       "      <td>Man</td>\n",
       "      <td>Indonesia</td>\n",
       "      <td>Masterâ€™s degree</td>\n",
       "      <td>Program/Project Manager</td>\n",
       "      <td>20+ years</td>\n",
       "      <td>NaN</td>\n",
       "      <td>NaN</td>\n",
       "      <td>...</td>\n",
       "      <td>NaN</td>\n",
       "      <td>NaN</td>\n",
       "      <td>NaN</td>\n",
       "      <td>NaN</td>\n",
       "      <td>NaN</td>\n",
       "      <td>NaN</td>\n",
       "      <td>NaN</td>\n",
       "      <td>NaN</td>\n",
       "      <td>NaN</td>\n",
       "      <td>NaN</td>\n",
       "    </tr>\n",
       "    <tr>\n",
       "      <th>3</th>\n",
       "      <td>2021</td>\n",
       "      <td>924</td>\n",
       "      <td>22-24</td>\n",
       "      <td>Man</td>\n",
       "      <td>Pakistan</td>\n",
       "      <td>Masterâ€™s degree</td>\n",
       "      <td>Software Engineer</td>\n",
       "      <td>1-3 years</td>\n",
       "      <td>Python</td>\n",
       "      <td>NaN</td>\n",
       "      <td>...</td>\n",
       "      <td>NaN</td>\n",
       "      <td>NaN</td>\n",
       "      <td>NaN</td>\n",
       "      <td>NaN</td>\n",
       "      <td>TensorBoard</td>\n",
       "      <td>NaN</td>\n",
       "      <td>NaN</td>\n",
       "      <td>NaN</td>\n",
       "      <td>NaN</td>\n",
       "      <td>NaN</td>\n",
       "    </tr>\n",
       "    <tr>\n",
       "      <th>4</th>\n",
       "      <td>2021</td>\n",
       "      <td>575</td>\n",
       "      <td>45-49</td>\n",
       "      <td>Man</td>\n",
       "      <td>Mexico</td>\n",
       "      <td>Doctoral degree</td>\n",
       "      <td>Research Scientist</td>\n",
       "      <td>20+ years</td>\n",
       "      <td>Python</td>\n",
       "      <td>NaN</td>\n",
       "      <td>...</td>\n",
       "      <td>NaN</td>\n",
       "      <td>NaN</td>\n",
       "      <td>NaN</td>\n",
       "      <td>NaN</td>\n",
       "      <td>NaN</td>\n",
       "      <td>NaN</td>\n",
       "      <td>NaN</td>\n",
       "      <td>NaN</td>\n",
       "      <td>NaN</td>\n",
       "      <td>NaN</td>\n",
       "    </tr>\n",
       "  </tbody>\n",
       "</table>\n",
       "<p>5 rows × 293 columns</p>\n",
       "</div>"
      ],
      "text/plain": [
       "      - Time from Start to Finish (seconds)                           Q1  \\\n",
       "0  Year               Duration (in seconds)  What is your age (# years)?   \n",
       "1  2021                                 910                        50-54   \n",
       "2  2021                                 784                        50-54   \n",
       "3  2021                                 924                        22-24   \n",
       "4  2021                                 575                        45-49   \n",
       "\n",
       "                                       Q2  \\\n",
       "0  What is your gender? - Selected Choice   \n",
       "1                                     Man   \n",
       "2                                     Man   \n",
       "3                                     Man   \n",
       "4                                     Man   \n",
       "\n",
       "                                          Q3  \\\n",
       "0  In which country do you currently reside?   \n",
       "1                                      India   \n",
       "2                                  Indonesia   \n",
       "3                                   Pakistan   \n",
       "4                                     Mexico   \n",
       "\n",
       "                                                  Q4  \\\n",
       "0  What is the highest level of formal education ...   \n",
       "1                                Bachelorâ€™s degree   \n",
       "2                                  Masterâ€™s degree   \n",
       "3                                  Masterâ€™s degree   \n",
       "4                                    Doctoral degree   \n",
       "\n",
       "                                                  Q5  \\\n",
       "0  Select the title most similar to your current ...   \n",
       "1                                              Other   \n",
       "2                            Program/Project Manager   \n",
       "3                                  Software Engineer   \n",
       "4                                 Research Scientist   \n",
       "\n",
       "                                                  Q6  \\\n",
       "0  For how many years have you been writing code ...   \n",
       "1                                         5-10 years   \n",
       "2                                          20+ years   \n",
       "3                                          1-3 years   \n",
       "4                                          20+ years   \n",
       "\n",
       "                                           Q7_Part_1  \\\n",
       "0  What programming languages do you use on a reg...   \n",
       "1                                             Python   \n",
       "2                                                NaN   \n",
       "3                                             Python   \n",
       "4                                             Python   \n",
       "\n",
       "                                           Q7_Part_2  ...  \\\n",
       "0  What programming languages do you use on a reg...  ...   \n",
       "1                                                  R  ...   \n",
       "2                                                NaN  ...   \n",
       "3                                                NaN  ...   \n",
       "4                                                NaN  ...   \n",
       "\n",
       "                                        Q38_B_Part_1  \\\n",
       "0  In the next 2 years, do you hope to become mor...   \n",
       "1                                                NaN   \n",
       "2                                                NaN   \n",
       "3                                                NaN   \n",
       "4                                                NaN   \n",
       "\n",
       "                                        Q38_B_Part_2  \\\n",
       "0  In the next 2 years, do you hope to become mor...   \n",
       "1                                                NaN   \n",
       "2                                                NaN   \n",
       "3                                                NaN   \n",
       "4                                                NaN   \n",
       "\n",
       "                                        Q38_B_Part_3  \\\n",
       "0  In the next 2 years, do you hope to become mor...   \n",
       "1                                                NaN   \n",
       "2                                                NaN   \n",
       "3                                                NaN   \n",
       "4                                                NaN   \n",
       "\n",
       "                                        Q38_B_Part_4  \\\n",
       "0  In the next 2 years, do you hope to become mor...   \n",
       "1                                                NaN   \n",
       "2                                                NaN   \n",
       "3                                                NaN   \n",
       "4                                                NaN   \n",
       "\n",
       "                                        Q38_B_Part_5  \\\n",
       "0  In the next 2 years, do you hope to become mor...   \n",
       "1                                                NaN   \n",
       "2                                                NaN   \n",
       "3                                       TensorBoard    \n",
       "4                                                NaN   \n",
       "\n",
       "                                        Q38_B_Part_6  \\\n",
       "0  In the next 2 years, do you hope to become mor...   \n",
       "1                                                NaN   \n",
       "2                                                NaN   \n",
       "3                                                NaN   \n",
       "4                                                NaN   \n",
       "\n",
       "                                        Q38_B_Part_7  \\\n",
       "0  In the next 2 years, do you hope to become mor...   \n",
       "1                                                NaN   \n",
       "2                                                NaN   \n",
       "3                                                NaN   \n",
       "4                                                NaN   \n",
       "\n",
       "                                        Q38_B_Part_9  \\\n",
       "0  In the next 2 years, do you hope to become mor...   \n",
       "1                                                NaN   \n",
       "2                                                NaN   \n",
       "3                                                NaN   \n",
       "4                                                NaN   \n",
       "\n",
       "                                       Q38_B_Part_11  \\\n",
       "0  In the next 2 years, do you hope to become mor...   \n",
       "1                                                NaN   \n",
       "2                                                NaN   \n",
       "3                                                NaN   \n",
       "4                                                NaN   \n",
       "\n",
       "                                         Q38_B_OTHER  \n",
       "0  In the next 2 years, do you hope to become mor...  \n",
       "1                                                NaN  \n",
       "2                                                NaN  \n",
       "3                                                NaN  \n",
       "4                                                NaN  \n",
       "\n",
       "[5 rows x 293 columns]"
      ]
     },
     "execution_count": 40,
     "metadata": {},
     "output_type": "execute_result"
    }
   ],
   "source": [
    "df.head(5)"
   ]
  },
  {
   "cell_type": "code",
   "execution_count": 13,
   "id": "ef55c430",
   "metadata": {},
   "outputs": [
    {
     "name": "stdout",
     "output_type": "stream",
     "text": [
      "1. Number of rows and columns:\n",
      "Rows: 106302, Columns: 293\n",
      "\n"
     ]
    }
   ],
   "source": [
    "# 1. Show the number of rows and columns\n",
    "print(\"1. Number of rows and columns:\")\n",
    "print(f\"Rows: {df.shape[0]}, Columns: {df.shape[1]}\\n\")"
   ]
  },
  {
   "cell_type": "code",
   "execution_count": 14,
   "id": "65662972",
   "metadata": {},
   "outputs": [
    {
     "name": "stdout",
     "output_type": "stream",
     "text": [
      "2. Column names:\n",
      "['-', 'Time from Start to Finish (seconds)', 'Q1', 'Q2', 'Q3', 'Q4', 'Q5', 'Q6', 'Q7_Part_1', 'Q7_Part_2', 'Q7_Part_3', 'Q7_Part_4', 'Q7_Part_5', 'Q7_Part_6', 'Q7_Part_7', 'Q7_Part_8', 'Q7_Part_9', 'Q7_Part_10', 'Q7_Part_11', 'Q7_Part_12', 'Q7_OTHER', 'Q8', 'Q9_Part_1', 'Q9_Part_2', 'Q9_Part_3', 'Q9_Part_5', 'Q9_Part_6', 'Q9_Part_7', 'Q9_Part_8', 'Q9_Part_9', 'Q9_Part_10', 'Q9_Part_12', 'Q9_OTHER', 'Q10_Part_1', 'Q10_Part_2', 'Q10_Part_3', 'Q10_Part_4', 'Q10_Part_5', 'Q10_Part_6', 'Q10_Part_7', 'Q10_Part_8', 'Q10_Part_9', 'Q10_Part_10', 'Q10_Part_11', 'Q10_Part_12', 'Q10_Part_16', 'Q10_OTHER', 'Q11', 'Q12new', 'Q12_Part_1', 'Q12_Part_2', 'Q12_Part_5', 'Q12_OTHER', 'Q13', 'Q14_Part_1', 'Q14_Part_2', 'Q14_Part_3', 'Q14_Part_4', 'Q14_Part_5', 'Q14_Part_6', 'Q14_Part_7', 'Q14_Part_8', 'Q14_Part_9', 'Q14_Part_10', 'Q14_Part_11', 'Q14_OTHER', 'Q15', 'Q16_Part_1', 'Q16_Part_2', 'Q16_Part_3', 'Q16_Part_4', 'Q16_Part_5', 'Q16_Part_6', 'Q16_Part_7', 'Q16_Part_8', 'Q16_Part_9', 'Q16_Part_10', 'Q16_Part_11', 'Q16_Part_12', 'Q16_Part_13', 'Q16_Part_14', 'Q16_Part_17', 'Q16_OTHER', 'Q17_Part_1', 'Q17_Part_2', 'Q17_Part_3', 'Q17_Part_4', 'Q17_Part_5', 'Q17_Part_6', 'Q17_Part_7', 'Q17_Part_8', 'Q17_Part_9', 'Q17_Part_10', 'Q17_Part_11', 'Q17_OTHER', 'Q18_Part_1', 'Q18_Part_2', 'Q18_Part_3', 'Q18_Part_4', 'Q18_Part_5', 'Q18_Part_6', 'Q18_OTHER', 'Q19_Part_1', 'Q19_Part_2', 'Q19_Part_3', 'Q19_Part_4', 'Q19_Part_5', 'Q19_OTHER', 'Q20', 'Q21', 'Q22', 'Q23', 'Q24_Part_1', 'Q24_Part_2', 'Q24_Part_3', 'Q24_Part_4', 'Q24_Part_5', 'Q24_Part_6', 'Q24_Part_7', 'Q24_OTHER', 'Q25', 'Q26', 'Q27_A_Part_1', 'Q27_A_Part_2', 'Q27_A_Part_3', 'Q27_A_Part_4', 'Q27_A_Part_5', 'Q27_A_Part_6', 'Q27_A_Part_7', 'Q27_A_Part_8', 'Q27_A_Part_9', 'Q27_A_Part_10', 'Q27_A_Part_11', 'Q27_A_OTHER', 'Q31_A_Part_1', 'Q31_A_Part_2', 'Q31_A_Part_9', 'Q31_A_OTHER', 'Q32_A_Part_1', 'Q32_A_Part_2', 'Q32_A_Part_3', 'Q32_A_Part_4', 'Q32_A_Part_5', 'Q32_A_Part_6', 'Q32_A_Part_7', 'Q32_A_Part_8', 'Q32_A_Part_11', 'Q32_A_Part_14', 'Q32_A_Part_15', 'Q32_A_Part_16', 'Q32_A_Part_17', 'Q32_A_Part_20', 'Q32_A_OTHER', 'Q33', 'Q34_A_Part_1', 'Q34_A_Part_2', 'Q34_A_Part_3', 'Q34_A_Part_4', 'Q34_A_Part_5', 'Q34_A_Part_6', 'Q34_A_Part_8', 'Q34_A_Part_9', 'Q34_A_Part_10', 'Q34_A_Part_11', 'Q34_A_Part_12', 'Q34_A_Part_13', 'Q34_A_Part_16', 'Q34_A_OTHER', 'Q35', 'Q36_A_Part_1', 'Q36_A_Part_2', 'Q36_A_Part_3', 'Q36_A_Part_4', 'Q36_A_Part_5', 'Q36_A_Part_6', 'Q36_A_Part_7', 'Q36_A_OTHER', 'Q37_A_Part_1', 'Q37_A_Part_2', 'Q37_A_Part_3', 'Q37_A_Part_4', 'Q37_A_Part_7', 'Q37_A_OTHER', 'Q38_A_Part_1', 'Q38_A_Part_2', 'Q38_A_Part_3', 'Q38_A_Part_4', 'Q38_A_Part_5', 'Q38_A_Part_6', 'Q38_A_Part_7', 'Q38_A_Part_9', 'Q38_A_Part_11', 'Q38_A_OTHER', 'Q39_Part_1', 'Q39_Part_2', 'Q39_Part_3', 'Q39_Part_4', 'Q39_Part_5', 'Q39_Part_6', 'Q39_Part_7', 'Q39_Part_8', 'Q39_Part_9', 'Q39_OTHER', 'Q40_Part_1', 'Q40_Part_2', 'Q40_Part_3', 'Q40_Part_4', 'Q40_Part_5', 'Q40_Part_6', 'Q40_Part_7', 'Q40_Part_8', 'Q40_Part_9', 'Q40_Part_10', 'Q40_Part_11', 'Q40_OTHER', 'Q41', 'Q42_Part_1', 'Q42_Part_2', 'Q42_Part_3', 'Q42_Part_4', 'Q42_Part_5', 'Q42_Part_6', 'Q42_Part_7', 'Q42_Part_8', 'Q42_Part_9', 'Q42_Part_10', 'Q42_Part_11', 'Q42_OTHER', 'Q27_B_Part_1', 'Q27_B_Part_2', 'Q27_B_Part_3', 'Q27_B_Part_4', 'Q27_B_Part_5', 'Q27_B_Part_6', 'Q27_B_Part_7', 'Q27_B_Part_8', 'Q27_B_Part_9', 'Q27_B_Part_10', 'Q27_B_Part_11', 'Q27_B_OTHER', 'Q32_B_Part_1', 'Q32_B_Part_2', 'Q32_B_Part_3', 'Q32_B_Part_4', 'Q32_B_Part_5', 'Q32_B_Part_6', 'Q32_B_Part_7', 'Q32_B_Part_8', 'Q32_B_Part_11', 'Q32_B_Part_13', 'Q32_B_Part_15', 'Q32_B_Part_16', 'Q32_B_Part_17', 'Q32_B_Part_20', 'Q32_B_OTHER', 'Q34_B_Part_1', 'Q34_B_Part_2', 'Q34_B_Part_3', 'Q34_B_Part_4', 'Q34_B_Part_5', 'Q34_B_Part_6', 'Q34_B_Part_8', 'Q34_B_Part_9', 'Q34_B_Part_10', 'Q34_B_Part_11', 'Q34_B_Part_12', 'Q34_B_Part_13', 'Q34_B_Part_16', 'Q34_B_OTHER', 'Q36_B_Part_1', 'Q36_B_Part_2', 'Q36_B_Part_3', 'Q36_B_Part_4', 'Q36_B_Part_5', 'Q36_B_Part_6', 'Q36_B_Part_7', 'Q36_B_OTHER', 'Q37_B_Part_1', 'Q37_B_Part_2', 'Q37_B_Part_3', 'Q37_B_Part_4', 'Q37_B_Part_7', 'Q37_B_OTHER', 'Q38_B_Part_1', 'Q38_B_Part_2', 'Q38_B_Part_3', 'Q38_B_Part_4', 'Q38_B_Part_5', 'Q38_B_Part_6', 'Q38_B_Part_7', 'Q38_B_Part_9', 'Q38_B_Part_11', 'Q38_B_OTHER']\n",
      "\n",
      "\n"
     ]
    }
   ],
   "source": [
    "# 2. Get the name of all the columns\n",
    "print(\"2. Column names:\")\n",
    "print(df.columns.tolist())\n",
    "print(\"\\n\")"
   ]
  },
  {
   "cell_type": "code",
   "execution_count": 15,
   "id": "eb6fba6b",
   "metadata": {},
   "outputs": [
    {
     "name": "stdout",
     "output_type": "stream",
     "text": [
      "3. Number of duplicate rows:\n",
      "4456\n",
      "\n"
     ]
    }
   ],
   "source": [
    "# 3. Check for duplicates in the data\n",
    "duplicates = df.duplicated().sum()\n",
    "print(\"3. Number of duplicate rows:\")\n",
    "print(f\"{duplicates}\\n\")"
   ]
  },
  {
   "cell_type": "code",
   "execution_count": 16,
   "id": "1061462e",
   "metadata": {},
   "outputs": [
    {
     "name": "stdout",
     "output_type": "stream",
     "text": [
      "4. Null values per column:\n",
      "-                                           0\n",
      "Time from Start to Finish (seconds)     16716\n",
      "Q1                                        445\n",
      "Q2                                         95\n",
      "Q3                                        121\n",
      "                                        ...  \n",
      "Q38_B_Part_6                           105015\n",
      "Q38_B_Part_7                           105084\n",
      "Q38_B_Part_9                           105116\n",
      "Q38_B_Part_11                          106301\n",
      "Q38_B_OTHER                            105673\n",
      "Length: 293, dtype: int64\n",
      "\n",
      "\n"
     ]
    }
   ],
   "source": [
    "# 4. Check for null values\n",
    "print(\"4. Null values per column:\")\n",
    "print(df.isnull().sum())\n",
    "print(\"\\n\")"
   ]
  },
  {
   "cell_type": "code",
   "execution_count": 17,
   "id": "6af12d2b",
   "metadata": {},
   "outputs": [],
   "source": [
    "# 5. Drop the 'Time from Start to Finish (seconds)' column as it's not useful\n",
    "df = df.drop('Time from Start to Finish (seconds)', axis=1)\n"
   ]
  },
  {
   "cell_type": "code",
   "execution_count": 18,
   "id": "70c2523b",
   "metadata": {},
   "outputs": [
    {
     "name": "stdout",
     "output_type": "stream",
     "text": [
      "6. Number of rows and columns after dropping a column:\n",
      "Rows: 106302, Columns: 292\n",
      "\n"
     ]
    }
   ],
   "source": [
    "# 6. Show the number of rows and columns after dropping the column\n",
    "print(\"6. Number of rows and columns after dropping a column:\")\n",
    "print(f\"Rows: {df.shape[0]}, Columns: {df.shape[1]}\\n\")"
   ]
  },
  {
   "cell_type": "code",
   "execution_count": 20,
   "id": "dbe7c1f4",
   "metadata": {},
   "outputs": [
    {
     "name": "stdout",
     "output_type": "stream",
     "text": [
      "7. Statistical information for numerical columns:\n",
      "             -      Q1      Q2      Q3                 Q4       Q5         Q6  \\\n",
      "count   106302  105857  106207  106181             103319    99088      92786   \n",
      "unique       7      12      10      78                 13       36         21   \n",
      "top       2021   25-29    Male   India  Masterâ€™s degree  Student  3-5 years   \n",
      "freq     23926   23748   49178   25192              37395    21242      15995   \n",
      "\n",
      "       Q7_Part_1 Q7_Part_2 Q7_Part_3  ...  Q38_B_Part_1        Q38_B_Part_2  \\\n",
      "count      65943     20885     33091  ...          2212                2761   \n",
      "unique         2         2         2  ...             2                   2   \n",
      "top       Python         R       SQL  ...   Neptune.ai    Weights & Biases    \n",
      "freq       65942     20884     33090  ...          2211                2760   \n",
      "\n",
      "       Q38_B_Part_3          Q38_B_Part_4   Q38_B_Part_5 Q38_B_Part_6  \\\n",
      "count          1128                  1022           7439         1287   \n",
      "unique            2                     2              2            2   \n",
      "top       Comet.ml    Sacred + Omniboard    TensorBoard     Guild.ai    \n",
      "freq           1127                  1021           7438         1286   \n",
      "\n",
      "       Q38_B_Part_7            Q38_B_Part_9  \\\n",
      "count          1218                    1186   \n",
      "unique            2                       2   \n",
      "top       Polyaxon    Domino Model Monitor    \n",
      "freq           1217                    1185   \n",
      "\n",
      "                                            Q38_B_Part_11 Q38_B_OTHER  \n",
      "count                                                   1         629  \n",
      "unique                                                  1           2  \n",
      "top     In the next 2 years, do you hope to become mor...       Other  \n",
      "freq                                                    1         628  \n",
      "\n",
      "[4 rows x 292 columns]\n",
      "\n",
      "\n"
     ]
    }
   ],
   "source": [
    "# 7. Use describe() to see some statistical information\n",
    "print(\"7. Statistical information for numerical columns:\")\n",
    "print(df.describe())\n",
    "print(\"\\n\")"
   ]
  },
  {
   "cell_type": "code",
   "execution_count": 21,
   "id": "3f011c9b",
   "metadata": {},
   "outputs": [
    {
     "name": "stdout",
     "output_type": "stream",
     "text": [
      "8. DataFrame information:\n",
      "<class 'pandas.core.frame.DataFrame'>\n",
      "RangeIndex: 106302 entries, 0 to 106301\n",
      "Columns: 292 entries, - to Q38_B_OTHER\n",
      "dtypes: object(292)\n",
      "memory usage: 236.8+ MB\n",
      "\n",
      "\n"
     ]
    }
   ],
   "source": [
    "# 8. Use info() to get a concise summary of the DataFrame\n",
    "print(\"8. DataFrame information:\")\n",
    "df.info()\n",
    "print(\"\\n\")"
   ]
  },
  {
   "cell_type": "code",
   "execution_count": 22,
   "id": "8ac9fd18",
   "metadata": {},
   "outputs": [
    {
     "data": {
      "image/png": "[encoded data removed]",
      "text/plain": [
       "<Figure size 1000x600 with 1 Axes>"
      ]
     },
     "metadata": {},
     "output_type": "display_data"
    }
   ],
   "source": [
    "# 9. Draw a countplot on the 'Q1' column to show the distribution of age\n",
    "plt.figure(figsize=(10, 6))\n",
    "sns.countplot(x='Q1', data=df, order=df['Q1'].value_counts().index)\n",
    "plt.title('Distribution of Age')\n",
    "plt.xlabel('Age')\n",
    "plt.ylabel('Count')\n",
    "plt.xticks(rotation=45)\n",
    "plt.show()"
   ]
  },
  {
   "cell_type": "code",
   "execution_count": 32,
   "id": "8928e8cf",
   "metadata": {},
   "outputs": [
    {
     "data": {
      "image/png": "[encoded data removed]",
      "text/plain": [
       "<Figure size 1000x600 with 1 Axes>"
      ]
     },
     "metadata": {},
     "output_type": "display_data"
    }
   ],
   "source": [
    "# Create the countplot for 'Q1' (Age) with improved readability\n",
    "plt.figure(figsize=(10, 6))\n",
    "sns.countplot(x='Q2', data=df)\n",
    "plt.title('Distribution of Gender')\n",
    "plt.xlabel('Gender')\n",
    "plt.ylabel('Count')\n",
    "plt.xticks(rotation=45, ha='right') # Rotates the labels for better visibility\n",
    "plt.tight_layout() # Adjusts plot parameters for a tight layout\n",
    "plt.show()"
   ]
  },
  {
   "cell_type": "code",
   "execution_count": 25,
   "id": "0f0a165b",
   "metadata": {},
   "outputs": [
    {
     "data": {
      "image/png": "[encoded data removed]",
      "text/plain": [
       "<Figure size 1500x2000 with 1 Axes>"
      ]
     },
     "metadata": {},
     "output_type": "display_data"
    }
   ],
   "source": [
    "# 11. Draw a countplot on the 'Q3' column to show the distribution of country\n",
    "plt.figure(figsize=(15, 20))\n",
    "sns.countplot(y='Q3', data=df, order=df['Q3'].value_counts().index)\n",
    "plt.title('Distribution of Country')\n",
    "plt.xlabel('Count')\n",
    "plt.ylabel('Country')\n",
    "plt.show()"
   ]
  }
 ],
 "metadata": {
  "kernelspec": {
   "display_name": "base",
   "language": "python",
   "name": "python3"
  },
  "language_info": {
   "codemirror_mode": {
    "name": "ipython",
    "version": 3
   },
   "file_extension": ".py",
   "mimetype": "text/x-python",
   "name": "python",
   "nbconvert_exporter": "python",
   "pygments_lexer": "ipython3",
   "version": "3.11.5"
  }
 },
 "nbformat": 4,
 "nbformat_minor": 5
}
